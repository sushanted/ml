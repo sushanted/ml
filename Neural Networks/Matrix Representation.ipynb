{
 "cells": [
  {
   "cell_type": "code",
   "execution_count": 1,
   "id": "42da99fb-293f-41a5-a4f5-cb14319a2dc8",
   "metadata": {},
   "outputs": [],
   "source": [
    "import numpy as np"
   ]
  },
  {
   "cell_type": "code",
   "execution_count": 40,
   "id": "9dde29ba-69bf-476a-be21-9b12ddf049eb",
   "metadata": {},
   "outputs": [
    {
     "name": "stdout",
     "output_type": "stream",
     "text": [
      "2x3\n",
      " [[1 2 3]\n",
      " [4 5 6]]\n",
      "\n",
      "3x2\n",
      " [[1 2]\n",
      " [3 4]\n",
      " [5 6]]\n"
     ]
    }
   ],
   "source": [
    "two_by_three = np.array([1,2,3,4,5,6]).reshape(2,3) # two arrays each of three elements\n",
    "\n",
    "print(\"2x3\\n\",two_by_three)\n",
    "\n",
    "three_by_two = np.array([1,2,3,4,5,6]).reshape(3,2) # three arrays each of two elements\n",
    "\n",
    "print(\"\\n3x2\\n\",three_by_two)\n"
   ]
  },
  {
   "cell_type": "markdown",
   "id": "bf0c5d76-5426-4b78-80c7-a8c42a778fd7",
   "metadata": {},
   "source": [
    "#### Weights representation in NN\n",
    "\n",
    "Consider two layers l-1 and l , where l-1 has 2 neurons while l has 3 neurons. So there would be total 2\\*3 interconnections (weights) between these two layers. Each neuron in layer l is connected to two (all) neurons in layer l-1 , also there would be 2 activations (from l-1 layer neurons) being consumed by layer l neurons. And 3 activations would be output from layer l. \n",
    "\n",
    "z = wa + b\n",
    "\n",
    "if w and a are represensted in matrix form, we can calculate z easily, which would also be in the matrix form.\n",
    "\n",
    "The weights can be represented in a 3x2 matrix : (3 rows and two columns), where  \n",
    "each row j represents connections into $j^{th}$ neuron of layer l from 2 neurons of layer l-1.  \n",
    "each column i represents connections starting from $i^{th}$ neuron of layer l-1."
   ]
  },
  {
   "cell_type": "code",
   "execution_count": 32,
   "id": "43711054-ec21-4db3-8581-ed82fc240167",
   "metadata": {},
   "outputs": [
    {
     "name": "stdout",
     "output_type": "stream",
     "text": [
      "[[2]\n",
      " [3]\n",
      " [5]]\n",
      "[[1 2 4 6]]\n"
     ]
    },
    {
     "data": {
      "text/plain": [
       "array([[ 2,  4,  8, 12],\n",
       "       [ 3,  6, 12, 18],\n",
       "       [ 5, 10, 20, 30]])"
      ]
     },
     "execution_count": 32,
     "metadata": {},
     "output_type": "execute_result"
    }
   ],
   "source": [
    "arr1 = np.array([2,3,5]).reshape(-1,1)\n",
    "arr2 = np.array([1,2,4,6]).reshape(1,-1)\n",
    "\n",
    "print(arr1)\n",
    "print(arr2)\n",
    "\n",
    "np.dot(arr1,arr2)"
   ]
  },
  {
   "cell_type": "code",
   "execution_count": null,
   "id": "22c57d08-2316-4fc4-8c39-105d82aa58c5",
   "metadata": {},
   "outputs": [],
   "source": []
  },
  {
   "cell_type": "code",
   "execution_count": null,
   "id": "b9d88ea0-4faf-4d50-b6d8-913d64e14e7b",
   "metadata": {},
   "outputs": [],
   "source": []
  }
 ],
 "metadata": {
  "kernelspec": {
   "display_name": "Python 3",
   "language": "python",
   "name": "python3"
  },
  "language_info": {
   "codemirror_mode": {
    "name": "ipython",
    "version": 3
   },
   "file_extension": ".py",
   "mimetype": "text/x-python",
   "name": "python",
   "nbconvert_exporter": "python",
   "pygments_lexer": "ipython3",
   "version": "3.8.1"
  }
 },
 "nbformat": 4,
 "nbformat_minor": 5
}
