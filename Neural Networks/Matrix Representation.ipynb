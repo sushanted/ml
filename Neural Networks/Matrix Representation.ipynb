{
 "cells": [
  {
   "cell_type": "code",
   "execution_count": 1,
   "id": "42da99fb-293f-41a5-a4f5-cb14319a2dc8",
   "metadata": {},
   "outputs": [],
   "source": [
    "import numpy as np"
   ]
  },
  {
   "cell_type": "code",
   "execution_count": 2,
   "id": "9dde29ba-69bf-476a-be21-9b12ddf049eb",
   "metadata": {},
   "outputs": [
    {
     "name": "stdout",
     "output_type": "stream",
     "text": [
      "2x3\n",
      " [[1 2 3]\n",
      " [4 5 6]]\n",
      "\n",
      "3x2\n",
      " [[1 2]\n",
      " [3 4]\n",
      " [5 6]]\n"
     ]
    }
   ],
   "source": [
    "two_by_three = np.array([1,2,3,4,5,6]).reshape(2,3) # two arrays each of three elements\n",
    "\n",
    "print(\"2x3\\n\",two_by_three)\n",
    "\n",
    "three_by_two = np.array([1,2,3,4,5,6]).reshape(3,2) # three arrays each of two elements\n",
    "\n",
    "print(\"\\n3x2\\n\",three_by_two)\n"
   ]
  },
  {
   "cell_type": "markdown",
   "id": "bf0c5d76-5426-4b78-80c7-a8c42a778fd7",
   "metadata": {},
   "source": [
    "#### Weights representation in NN\n",
    "\n",
    "![image info](2x3network.png) ![image info](3x2Weights.png) \n",
    "\n",
    "Consider two layers l-1 and l , where l-1 has 2 neurons while l has 3 neurons. So there would be total 2\\*3 interconnections (weights) between these two layers. Each neuron in layer l is connected to two (all) neurons in layer l-1 , also there would be 2 activations (from l-1 layer neurons) being consumed by layer l neurons. And 3 activations would be output from layer l. \n",
    "\n",
    "z = wa + b\n",
    "\n",
    "if w and a are represensted in matrix form, we can calculate z easily, which would also be in the matrix form.\n",
    "\n",
    "The weights can be represented in a 3x2 matrix : (3 rows and two columns), where  \n",
    "each row j represents connections into $j^{th}$ neuron of layer l from 2 neurons of layer l-1.  \n",
    "each column i represents connections starting from $i^{th}$ neuron of layer l-1.\n",
    "\n",
    "\n",
    "In general, if there are m neurons in layer l-1 and n neurons in layer l, there would be m\\*n weights. m input activations for layer l and n output activations from layer l. The weight matrix should be then n x m : n number of arrays, each of size m. The size m (number of columns) should match with the input number of activations as they would have one-to-one correspondance in the product. The size n (number of rows) should match with the output number of activations as there would be an output activation corresponding to each row (after multiplying with the input activation column).\n",
    "\n",
    "Some extreme cases:\n",
    "\n",
    "1 x 4 \n",
    "\n",
    "![image info](1x4Weights.png)\n",
    "\n",
    "4 x 1\n",
    "\n",
    "![image info](4x1Weights.png)"
   ]
  },
  {
   "cell_type": "markdown",
   "id": "d4fdb005-5a0b-4116-8abb-f5904fd5c825",
   "metadata": {},
   "source": [
    "#### BP2 matrix\n",
    "\n",
    "While calculating BP2, we go reverse in the network, starting from the last layer. \n",
    "\n",
    "An example BP2 equations is :  \n",
    "$\\frac{\\partial C}{\\partial{z_1^{l-1}}} = \\frac{\\partial C}{\\partial{z_1^{l}}}w_{11}^{l}\\sigma'(z_1^{l-1}) + \\frac{\\partial C}{\\partial{z_2^{l}}}w_{21}^{l}\\sigma'(z_1^{l-1}) + \\frac{\\partial C}{\\partial{z_3^{l}}}w_{31}^{l}\\sigma'(z_1^{l-1})$  \n",
    "\n",
    "$ = (\\frac{\\partial C}{\\partial{z_1^{l}}}w_{11}^{l} + \\frac{\\partial C}{\\partial{z_2^{l}}}w_{21}^{l}+\\frac{\\partial C}{\\partial{z_3^{l}}}w_{31}^{l})\\sigma'(z_1^{l-1}) $  \n",
    "\n",
    "Similarly for second neuron in l-1 layer:\n",
    "\n",
    "$\\frac{\\partial C}{\\partial{z_2^{l-1}}} = (\\frac{\\partial C}{\\partial{z_1^{l}}}w_{12}^{l} + \\frac{\\partial C}{\\partial{z_2^{l}}}w_{22}^{l}+\\frac{\\partial C}{\\partial{z_3^{l}}}w_{32}^{l})\\sigma'(z_2^{l-1}) $ \n",
    "\n",
    "In summary, $ \\frac{\\partial C}{\\partial z}$ for a neuron i in layer l-1 is sum of products of weights starting from that neuron and the error or  $\\frac{\\partial C}{\\partial z}$ of the target neuron (and ofcourse $\\sigma'(z_1^{l-1})$). \n",
    "\n",
    "So the initial weight matrix now needs to be transposed : rows become columns and columns become rows.\n",
    "\n",
    "$ \\begin{bmatrix} w_{11} \\ w_{12} \\\\ w_{21} \\ w_{22} \\\\ w_{31} \\ w_{32} \\end{bmatrix}$ => $ \\begin{bmatrix} w_{11} \\ w_{21} \\ w_{31} \\\\ w_{12} \\ w_{22} \\ w_{32} \\end{bmatrix}$\n",
    "\n",
    "![transform](transform.png)  \n",
    "\n",
    "##### BP2 representation in matrix form\n",
    "\n",
    "$ \\begin{bmatrix} \\frac{\\partial C}{\\partial{z_1^{l-1}}} \\\\ \\frac{\\partial C}{\\partial{z_2^{l-1}}} \\end{bmatrix}$ = $ \\begin{bmatrix} w_{11}^l \\ w_{21}^l \\ w_{31}^l \\\\ w_{12}^l \\ w_{22}^l \\ w_{32}^l \\end{bmatrix} $ $ \\begin{bmatrix} \\frac{\\partial C}{\\partial{z_1^{l}}} \\\\ \\frac{\\partial C}{\\partial{z_2^{l}}} \\\\ \\frac{\\partial C}{\\partial{z_3^{l}}} \\end{bmatrix}$ $ \\odot \\begin{bmatrix} \\sigma'(z_1^{l-1}) \\\\ \\sigma'(z_2^{l-1}) \\end{bmatrix} $"
   ]
  },
  {
   "cell_type": "markdown",
   "id": "7d2958e1-d282-483f-a79f-5c9d61fce61b",
   "metadata": {},
   "source": [
    "#### BP4 matrix\n",
    "\n",
    "General BP4 representation:\n",
    "\n",
    "$ \\frac{\\partial C}{\\partial w_{ji}^l} = \\frac{\\partial C}{\\partial z_j^l} a_i^{l-1} $  \n",
    "\n",
    "we need to calculate $ \\frac{\\partial C}{\\partial w_{ji}^l} $ for all the weights for layer l, calculation of $ \\frac{\\partial C}{\\partial w_{ji}^l} $ involves multiplication of $\\frac{\\partial C}{\\partial z_j^l}$ for $j^{th}$ neuron in layer l and $ a_i^{l-1} $ for $i^{th}$ neuron in layer l-1. We need to do this for all pair of neurons in layer l and l-1 (j,i).  \n",
    "\n",
    "Follows a matrix representation to get the weight matrix built from this information (Note that the activation matrix (1 x n) is a transpose of regular activation matrix of form (n x 1)):  \n",
    "\n",
    "\n",
    " $ \\begin{bmatrix} \\frac{\\partial C}{\\partial{w^l_{11}}} \\ \\frac{\\partial C}{\\partial{w^l_{12}}} \\\\ \\frac{\\partial C}{\\partial{w^l_{21}}} \\ \\frac{\\partial C}{\\partial{w^l_{22}}} \\\\ \\frac{\\partial C}{\\partial{w^l_{31}}} \\ \\frac{\\partial C}{\\partial{w^l_{32}}} \\end{bmatrix}$ = $ \\begin{bmatrix} \\frac{\\partial C}{\\partial{z_1^{l}}} \\\\ \\frac{\\partial C}{\\partial{z_2^{l}}} \\\\ \\frac{\\partial C}{\\partial{z_3^{l}}} \\end{bmatrix}$ $ \\begin{bmatrix}  a_1^{l-1} \\  a_2^{l-1} \\end{bmatrix}$ =\n",
    "$ \\begin{bmatrix} \\frac{\\partial C}{\\partial{z_1^{l}}}a_1^{l-1} \\ \\frac{\\partial C}{\\partial{z_1^{l}}}a_2^{l-1} \\\\\n",
    "\\frac{\\partial C}{\\partial{z_2^{l}}}a_1^{l-1} \\ \\frac{\\partial C}{\\partial{z_2^{l}}}a_2^{l-1} \\\\\n",
    "\\frac{\\partial C}{\\partial{z_3^{l}}}a_1^{l-1} \\ \\frac{\\partial C}{\\partial{z_3^{l}}}a_2^{l-1} \\\\\n",
    "\\end{bmatrix} $"
   ]
  },
  {
   "cell_type": "code",
   "execution_count": 3,
   "id": "43711054-ec21-4db3-8581-ed82fc240167",
   "metadata": {},
   "outputs": [
    {
     "name": "stdout",
     "output_type": "stream",
     "text": [
      "[[2]\n",
      " [3]\n",
      " [5]]\n",
      "[[1 2 4 6]]\n"
     ]
    },
    {
     "data": {
      "text/plain": [
       "array([[ 2,  4,  8, 12],\n",
       "       [ 3,  6, 12, 18],\n",
       "       [ 5, 10, 20, 30]])"
      ]
     },
     "execution_count": 3,
     "metadata": {},
     "output_type": "execute_result"
    }
   ],
   "source": [
    "arr1 = np.array([2,3,5]).reshape(-1,1)\n",
    "arr2 = np.array([1,2,4,6]).reshape(1,-1)\n",
    "\n",
    "print(arr1)\n",
    "print(arr2)\n",
    "\n",
    "np.dot(arr1,arr2)"
   ]
  },
  {
   "cell_type": "code",
   "execution_count": null,
   "id": "4a62bcbc-0b3e-4f8d-84fa-38a6b7ad823d",
   "metadata": {},
   "outputs": [],
   "source": []
  },
  {
   "cell_type": "code",
   "execution_count": null,
   "id": "22c57d08-2316-4fc4-8c39-105d82aa58c5",
   "metadata": {},
   "outputs": [],
   "source": []
  },
  {
   "cell_type": "code",
   "execution_count": null,
   "id": "b9d88ea0-4faf-4d50-b6d8-913d64e14e7b",
   "metadata": {},
   "outputs": [],
   "source": []
  }
 ],
 "metadata": {
  "kernelspec": {
   "display_name": "Python 3",
   "language": "python",
   "name": "python3"
  },
  "language_info": {
   "codemirror_mode": {
    "name": "ipython",
    "version": 3
   },
   "file_extension": ".py",
   "mimetype": "text/x-python",
   "name": "python",
   "nbconvert_exporter": "python",
   "pygments_lexer": "ipython3",
   "version": "3.8.1"
  }
 },
 "nbformat": 4,
 "nbformat_minor": 5
}
