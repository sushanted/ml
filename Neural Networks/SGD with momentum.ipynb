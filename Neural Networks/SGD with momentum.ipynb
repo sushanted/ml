{
 "cells": [
  {
   "cell_type": "markdown",
   "metadata": {},
   "source": [
    "Basic maths behind momentum and how it works  \n",
    "https://towardsdatascience.com/stochastic-gradient-descent-with-momentum-a84097641a5d  \n",
    "\n",
    "Very good pictorial explaination:  \n",
    "https://blog.paperspace.com/intro-to-optimization-momentum-rmsprop-adam/"
   ]
  },
  {
   "cell_type": "markdown",
   "metadata": {},
   "source": [
    "Every term is given (1-b) weight initially and gradually the weights decay by factor of b^i, where i is the age.\n",
    "\n",
    "\n",
    "$ V_t = \\beta V_{t-1} + (1-\\beta)S_t $"
   ]
  },
  {
   "cell_type": "code",
   "execution_count": null,
   "metadata": {},
   "outputs": [],
   "source": []
  },
  {
   "cell_type": "code",
   "execution_count": null,
   "metadata": {},
   "outputs": [],
   "source": []
  }
 ],
 "metadata": {
  "kernelspec": {
   "display_name": "Python 3",
   "language": "python",
   "name": "python3"
  },
  "language_info": {
   "codemirror_mode": {
    "name": "ipython",
    "version": 3
   },
   "file_extension": ".py",
   "mimetype": "text/x-python",
   "name": "python",
   "nbconvert_exporter": "python",
   "pygments_lexer": "ipython3",
   "version": "3.6.4"
  }
 },
 "nbformat": 4,
 "nbformat_minor": 5
}
