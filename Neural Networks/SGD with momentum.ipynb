{
 "cells": [
  {
   "cell_type": "markdown",
   "id": "1b991b92",
   "metadata": {},
   "source": [
    "Basic maths behind momentum and how it works  \n",
    "https://towardsdatascience.com/stochastic-gradient-descent-with-momentum-a84097641a5d  \n",
    "\n",
    "Very good pictorial explaination:  \n",
    "https://blog.paperspace.com/intro-to-optimization-momentum-rmsprop-adam/"
   ]
  },
  {
   "cell_type": "markdown",
   "id": "a49816af",
   "metadata": {},
   "source": [
    "Every term is given (1-b) weight initially and gradually the weights decay by factor of b^i, where i is the age.\n",
    "\n",
    "\n",
    "$ V_t = \\beta V_{t-1} + (1-\\beta)S_t $"
   ]
  },
  {
   "cell_type": "code",
   "execution_count": null,
   "id": "2c47325d",
   "metadata": {},
   "outputs": [],
   "source": []
  },
  {
   "cell_type": "code",
   "execution_count": null,
   "id": "43f19d9c",
   "metadata": {},
   "outputs": [],
   "source": []
  }
 ],
 "metadata": {
  "kernelspec": {
   "display_name": "Python 3",
   "language": "python",
   "name": "python3"
  },
  "language_info": {
   "codemirror_mode": {
    "name": "ipython",
    "version": 3
   },
   "file_extension": ".py",
   "mimetype": "text/x-python",
   "name": "python",
   "nbconvert_exporter": "python",
   "pygments_lexer": "ipython3",
   "version": "3.8.1"
  }
 },
 "nbformat": 4,
 "nbformat_minor": 5
}
