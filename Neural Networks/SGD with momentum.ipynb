{
 "cells": [
  {
   "cell_type": "markdown",
   "id": "32ddaa56-de01-4a1e-a191-bfa9ef8eb461",
   "metadata": {},
   "source": [
    "Basic maths behind momentum and how it works  \n",
    "https://towardsdatascience.com/stochastic-gradient-descent-with-momentum-a84097641a5d  \n",
    "\n",
    "Very good pictorial explaination:  \n",
    "https://blog.paperspace.com/intro-to-optimization-momentum-rmsprop-adam/"
   ]
  },
  {
   "cell_type": "markdown",
   "id": "d8b9c5b0-2538-4389-8515-d151eccff50e",
   "metadata": {},
   "source": [
    "Every term is given (1-b) weight initially and gradually the weights decay by factor of b^i, where i is the age.\n",
    "\n",
    "\n",
    "$ V_t = \\beta V_{t-1} + (1-\\beta)S_t $"
   ]
  },
  {
   "cell_type": "code",
   "execution_count": null,
   "id": "df935427-4202-4492-b470-921a4e26f54e",
   "metadata": {},
   "outputs": [],
   "source": []
  },
  {
   "cell_type": "code",
   "execution_count": null,
   "id": "960a6150-8117-4f93-b499-7bb367921a0f",
   "metadata": {},
   "outputs": [],
   "source": []
  }
 ],
 "metadata": {
  "kernelspec": {
   "display_name": "Python 3",
   "language": "python",
   "name": "python3"
  },
  "language_info": {
   "codemirror_mode": {
    "name": "ipython",
    "version": 3
   },
   "file_extension": ".py",
   "mimetype": "text/x-python",
   "name": "python",
   "nbconvert_exporter": "python",
   "pygments_lexer": "ipython3",
   "version": "3.8.1"
  }
 },
 "nbformat": 4,
 "nbformat_minor": 5
}
