{
 "cells": [
  {
   "cell_type": "code",
   "execution_count": 2,
   "id": "6d1fa2b8-7998-4580-b76d-9f1b566bc057",
   "metadata": {},
   "outputs": [
    {
     "name": "stdout",
     "output_type": "stream",
     "text": [
      "Hello\n"
     ]
    }
   ],
   "source": [
    "println(\"Hello\")"
   ]
  },
  {
   "cell_type": "code",
   "execution_count": 3,
   "id": "53ee57ec-6f35-4e9d-8f57-c5afb5c6a424",
   "metadata": {},
   "outputs": [
    {
     "name": "stdout",
     "output_type": "stream",
     "text": [
      "say, hello world\n"
     ]
    }
   ],
   "source": [
    "var hello = \"hello\"\n",
    "var helloWorld = \"$hello world\"\n",
    "println(\"say, $helloWorld\")"
   ]
  },
  {
   "cell_type": "code",
   "execution_count": 4,
   "id": "7b507e64-ef8d-4c35-82b3-39c348e28ea2",
   "metadata": {},
   "outputs": [
    {
     "name": "stdout",
     "output_type": "stream",
     "text": [
      "This \n",
      "has \n",
      "many \n",
      "lines\n",
      "\n"
     ]
    }
   ],
   "source": [
    "var multiline = \"\"\"This \n",
    "has \n",
    "many \n",
    "lines\n",
    "\"\"\"\n",
    "\n",
    "println(multiline)"
   ]
  },
  {
   "cell_type": "code",
   "execution_count": null,
   "id": "5a686e8f-4eba-4592-8205-f48533688f53",
   "metadata": {},
   "outputs": [],
   "source": []
  }
 ],
 "metadata": {
  "kernelspec": {
   "display_name": "Kotlin",
   "language": "kotlin",
   "name": "kotlin"
  },
  "language_info": {
   "codemirror_mode": "text/x-kotlin",
   "file_extension": ".kt",
   "mimetype": "text/x-kotlin",
   "name": "kotlin",
   "nbconvert_exporter": "",
   "pygments_lexer": "kotlin",
   "version": "1.6.20-dev-3702"
  }
 },
 "nbformat": 4,
 "nbformat_minor": 5
}
