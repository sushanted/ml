{
 "cells": [
  {
   "cell_type": "markdown",
   "id": "7a07400c-6464-478a-8d18-85a176ac8a48",
   "metadata": {},
   "source": [
    "#### Regression on a function of three variables"
   ]
  },
  {
   "cell_type": "markdown",
   "id": "170026ee-89df-420c-8c52-e2dc7f32c2b4",
   "metadata": {},
   "source": [
    "##### Very tight fitting is favourable in this condition, almost all the combinations of x,y,z get covered for small value of till"
   ]
  },
  {
   "cell_type": "code",
   "execution_count": 173,
   "id": "03f0ca54-06ab-4d6d-8019-aa8f5de6bd5d",
   "metadata": {},
   "outputs": [
    {
     "name": "stdout",
     "output_type": "stream",
     "text": [
      "733.192333333333\n"
     ]
    }
   ],
   "source": [
    "import numpy as np\n",
    "from sklearn.tree import DecisionTreeRegressor\n",
    "from sklearn.tree import export_text\n",
    "\n",
    "classifier = DecisionTreeRegressor(max_depth=10)\n",
    "\n",
    "till = 10000\n",
    "\n",
    "XYZ = np.random.randint(0,till,size=(1000,3))\n",
    "\n",
    "fun = lambda x,y,z : x+y+z\n",
    "\n",
    "classifier.fit(XYZ,[fun(x,y,z) for (x,y,z) in XYZ])\n",
    "\n",
    "#print(export_text(classifier, feature_names=['x','y','z']))\n",
    "\n",
    "\n",
    "\n",
    "test_xyz = np.random.randint(0,till,size=(100,3))\n",
    "\n",
    "\n",
    "predictions = classifier.predict(test_xyz)\n",
    "\n",
    "avg_error = 0\n",
    "for (x,y,z),p in zip(test_xyz,predictions):\n",
    "    avg_error += (abs(fun(x,y,z)-p))/len(test_xyz)\n",
    "\n",
    "print(avg_error)\n",
    "\n"
   ]
  },
  {
   "cell_type": "code",
   "execution_count": null,
   "id": "9a1cb28b-87f6-499e-ace9-3650b9688d87",
   "metadata": {},
   "outputs": [],
   "source": []
  },
  {
   "cell_type": "code",
   "execution_count": null,
   "id": "bfbdfc93-0df3-4b25-8243-655aeb7b5007",
   "metadata": {},
   "outputs": [],
   "source": []
  },
  {
   "cell_type": "code",
   "execution_count": null,
   "id": "9df9b83a-9e82-421c-a357-7ec6ec806831",
   "metadata": {},
   "outputs": [],
   "source": []
  }
 ],
 "metadata": {
  "kernelspec": {
   "display_name": "Python 3",
   "language": "python",
   "name": "python3"
  },
  "language_info": {
   "codemirror_mode": {
    "name": "ipython",
    "version": 3
   },
   "file_extension": ".py",
   "mimetype": "text/x-python",
   "name": "python",
   "nbconvert_exporter": "python",
   "pygments_lexer": "ipython3",
   "version": "3.8.1"
  }
 },
 "nbformat": 4,
 "nbformat_minor": 5
}
