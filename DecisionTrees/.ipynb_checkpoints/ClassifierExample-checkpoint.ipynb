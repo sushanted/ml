{
 "cells": [
  {
   "cell_type": "markdown",
   "id": "f17e6dcb-310a-4d38-b111-861673fe76d6",
   "metadata": {},
   "source": [
    "### Classifier example"
   ]
  },
  {
   "cell_type": "code",
   "execution_count": 2,
   "id": "5ccab59d-eb40-44b4-bf0b-d766795a42e5",
   "metadata": {},
   "outputs": [],
   "source": [
    "from sklearn.tree import DecisionTreeClassifier\n",
    "classifier = DecisionTreeClassifier(random_state=0)\n",
    "\n"
   ]
  },
  {
   "cell_type": "code",
   "execution_count": null,
   "id": "37242557-0f90-446e-9487-156b549994df",
   "metadata": {},
   "outputs": [],
   "source": []
  }
 ],
 "metadata": {
  "kernelspec": {
   "display_name": "Python 3",
   "language": "python",
   "name": "python3"
  },
  "language_info": {
   "codemirror_mode": {
    "name": "ipython",
    "version": 3
   },
   "file_extension": ".py",
   "mimetype": "text/x-python",
   "name": "python",
   "nbconvert_exporter": "python",
   "pygments_lexer": "ipython3",
   "version": "3.8.1"
  }
 },
 "nbformat": 4,
 "nbformat_minor": 5
}
