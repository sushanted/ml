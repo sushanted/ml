{
 "cells": [
  {
   "cell_type": "code",
   "execution_count": 55,
   "id": "8afbbafc-3456-450f-8809-f81cc02a77eb",
   "metadata": {},
   "outputs": [
    {
     "name": "stdout",
     "output_type": "stream",
     "text": [
      "|--- Sex <= 0.50\n",
      "|   |--- Age <= 36.25\n",
      "|   |   |--- Age <= 31.50\n",
      "|   |   |   |--- Age <= 20.00\n",
      "|   |   |   |   |--- class: 1\n",
      "|   |   |   |--- Age >  20.00\n",
      "|   |   |   |   |--- class: 0\n",
      "|   |   |--- Age >  31.50\n",
      "|   |   |   |--- class: 1\n",
      "|   |--- Age >  36.25\n",
      "|   |   |--- SibSp <= 0.50\n",
      "|   |   |   |--- Age <= 47.50\n",
      "|   |   |   |   |--- class: 0\n",
      "|   |   |   |--- Age >  47.50\n",
      "|   |   |   |   |--- class: 0\n",
      "|   |   |--- SibSp >  0.50\n",
      "|   |   |   |--- class: 0\n",
      "|--- Sex >  0.50\n",
      "|   |--- Pclass <= 1.50\n",
      "|   |   |--- Age <= 27.00\n",
      "|   |   |   |--- SibSp <= 0.50\n",
      "|   |   |   |   |--- class: 1\n",
      "|   |   |   |--- SibSp >  0.50\n",
      "|   |   |   |   |--- class: 1\n",
      "|   |   |--- Age >  27.00\n",
      "|   |   |   |--- Age <= 49.50\n",
      "|   |   |   |   |--- class: 1\n",
      "|   |   |   |--- Age >  49.50\n",
      "|   |   |   |   |--- class: 1\n",
      "|   |--- Pclass >  1.50\n",
      "|   |   |--- class: 1\n",
      "\n"
     ]
    }
   ],
   "source": [
    "from sklearn.tree import DecisionTreeClassifier\n",
    "from sklearn.tree import export_text\n",
    "import numpy as np\n",
    "import pandas as pd\n",
    "\n",
    "df = pd.read_csv(\"data/titanic_train.csv\")\n",
    "\n",
    "survived = df['Survived']\n",
    "\n",
    "# cleaning\n",
    "df.dropna(axis=0,inplace=True)\n",
    "df.drop(['Name','Ticket','Cabin','Survived','PassengerId','Fare','Parch'],axis=1,inplace=True)\n",
    "\n",
    "# conversion to numbers\n",
    "df.replace({'Sex':{'male':0,'female':1},'Embarked':{'S':0,'C':1,'Q':2}},inplace=True)\n",
    "\n",
    "classifier = DecisionTreeClassifier(random_state=0,min_samples_leaf=10)\n",
    "\n",
    "classifier.fit(df,survived)\n",
    "\n",
    "print(export_text(classifier, feature_names=list(df.columns)))\n"
   ]
  },
  {
   "cell_type": "code",
   "execution_count": null,
   "id": "1e196f6e-039b-4b20-a4fb-d028464936e5",
   "metadata": {},
   "outputs": [],
   "source": []
  }
 ],
 "metadata": {
  "kernelspec": {
   "display_name": "Python 3",
   "language": "python",
   "name": "python3"
  },
  "language_info": {
   "codemirror_mode": {
    "name": "ipython",
    "version": 3
   },
   "file_extension": ".py",
   "mimetype": "text/x-python",
   "name": "python",
   "nbconvert_exporter": "python",
   "pygments_lexer": "ipython3",
   "version": "3.8.1"
  }
 },
 "nbformat": 4,
 "nbformat_minor": 5
}
