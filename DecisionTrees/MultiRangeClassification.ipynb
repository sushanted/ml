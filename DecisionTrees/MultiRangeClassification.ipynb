{
 "cells": [
  {
   "cell_type": "markdown",
   "id": "a51b4dfa-605b-4659-b1c1-9ac6d1c64cab",
   "metadata": {},
   "source": [
    "#### Multi range classification on the same feature"
   ]
  },
  {
   "cell_type": "code",
   "execution_count": 5,
   "id": "444b0643-2228-4585-9878-363bf7682a1f",
   "metadata": {},
   "outputs": [
    {
     "name": "stdout",
     "output_type": "stream",
     "text": [
      "|--- Value <= 3.50\n",
      "|   |--- class: Y\n",
      "|--- Value >  3.50\n",
      "|   |--- Value <= 7.75\n",
      "|   |   |--- class: N\n",
      "|   |--- Value >  7.75\n",
      "|   |   |--- class: Y\n",
      "\n"
     ]
    }
   ],
   "source": [
    "\n",
    "from sklearn.tree import DecisionTreeClassifier\n",
    "from sklearn.tree import export_text\n",
    "\n",
    "classifier = DecisionTreeClassifier(random_state=0)\n",
    "\n",
    "classifier.fit([[1],[2],[3],[4],[5],[6],[7],[8],[9],[10]],['Y','Y','Y','N','N','N','N','Y','Y','Y'])\n",
    "\n",
    "print(export_text(classifier, feature_names=['Value']))\n"
   ]
  },
  {
   "cell_type": "code",
   "execution_count": null,
   "id": "85e1d87c-9cbb-4d27-a6b2-4b60a40a56ca",
   "metadata": {},
   "outputs": [],
   "source": [
    "## Bounds look to be calculated according to the actual values"
   ]
  },
  {
   "cell_type": "markdown",
   "id": "64f1bfb7-6743-4a5a-8213-39f132899480",
   "metadata": {},
   "source": [
    "#### X-Y plain with bounded regions A,B,C and D (D is default region)"
   ]
  },
  {
   "cell_type": "code",
   "execution_count": 32,
   "id": "9abd5eeb-5133-4a6d-bf94-e0be4cd97acd",
   "metadata": {},
   "outputs": [
    {
     "name": "stdout",
     "output_type": "stream",
     "text": [
      "|--- y <= 29.50\n",
      "|   |--- x <= 50.50\n",
      "|   |   |--- x <= 19.50\n",
      "|   |   |   |--- x <= 10.50\n",
      "|   |   |   |   |--- class: D\n",
      "|   |   |   |--- x >  10.50\n",
      "|   |   |   |   |--- y <= 9.50\n",
      "|   |   |   |   |   |--- class: D\n",
      "|   |   |   |   |--- y >  9.50\n",
      "|   |   |   |   |   |--- y <= 19.50\n",
      "|   |   |   |   |   |   |--- class: A\n",
      "|   |   |   |   |   |--- y >  19.50\n",
      "|   |   |   |   |   |   |--- class: D\n",
      "|   |   |--- x >  19.50\n",
      "|   |   |   |--- class: D\n",
      "|   |--- x >  50.50\n",
      "|   |   |--- y <= 5.50\n",
      "|   |   |   |--- class: D\n",
      "|   |   |--- y >  5.50\n",
      "|   |   |   |--- x <= 89.50\n",
      "|   |   |   |   |--- class: C\n",
      "|   |   |   |--- x >  89.50\n",
      "|   |   |   |   |--- class: D\n",
      "|--- y >  29.50\n",
      "|   |--- y <= 69.50\n",
      "|   |   |--- x <= 40.50\n",
      "|   |   |   |--- class: D\n",
      "|   |   |--- x >  40.50\n",
      "|   |   |   |--- x <= 70.00\n",
      "|   |   |   |   |--- y <= 40.50\n",
      "|   |   |   |   |   |--- class: D\n",
      "|   |   |   |   |--- y >  40.50\n",
      "|   |   |   |   |   |--- class: B\n",
      "|   |   |   |--- x >  70.00\n",
      "|   |   |   |   |--- class: D\n",
      "|   |--- y >  69.50\n",
      "|   |   |--- class: D\n",
      "\n"
     ]
    }
   ],
   "source": [
    "from sklearn.tree import DecisionTreeClassifier\n",
    "from sklearn.tree import export_text\n",
    "import numpy as np\n",
    "\n",
    "\n",
    "random_points = np.random.randint(100,size=(1000,2))\n",
    "\n",
    "random_area = []\n",
    "for random_point in random_points:\n",
    "    if((10 < random_point[0]  < 20) and (10 < random_point[1] < 20)):\n",
    "        random_area.append(\"A\")\n",
    "    elif ((40 < random_point[0]  < 70) and (40 < random_point[1] < 70)):\n",
    "        random_area.append(\"B\")\n",
    "    elif ((50 < random_point[0]  < 90) and (5 < random_point[1] < 30)):\n",
    "        random_area.append(\"C\")\n",
    "    else:\n",
    "        random_area.append(\"D\")\n",
    "        \n",
    "#print(random_area)\n",
    "\n",
    "classifier = DecisionTreeClassifier(random_state=0)\n",
    "\n",
    "classifier.fit(random_points,random_area)\n",
    "\n",
    "print(export_text(classifier, feature_names=['x','y']))\n"
   ]
  },
  {
   "cell_type": "code",
   "execution_count": null,
   "id": "deef3b14-d604-49bf-b443-fe2e2a0d3a94",
   "metadata": {},
   "outputs": [],
   "source": []
  },
  {
   "cell_type": "code",
   "execution_count": null,
   "id": "7d6be13c-634e-4191-bcb7-a45f2f7fd2b9",
   "metadata": {},
   "outputs": [],
   "source": []
  },
  {
   "cell_type": "code",
   "execution_count": null,
   "id": "8c4a6643-bfc3-4f45-993d-38c4a04c69ad",
   "metadata": {},
   "outputs": [],
   "source": []
  },
  {
   "cell_type": "code",
   "execution_count": null,
   "id": "3c8fdbb2-e4e2-4583-a61c-fff8ba38a107",
   "metadata": {},
   "outputs": [],
   "source": []
  }
 ],
 "metadata": {
  "kernelspec": {
   "display_name": "Python 3",
   "language": "python",
   "name": "python3"
  },
  "language_info": {
   "codemirror_mode": {
    "name": "ipython",
    "version": 3
   },
   "file_extension": ".py",
   "mimetype": "text/x-python",
   "name": "python",
   "nbconvert_exporter": "python",
   "pygments_lexer": "ipython3",
   "version": "3.8.1"
  }
 },
 "nbformat": 4,
 "nbformat_minor": 5
}
