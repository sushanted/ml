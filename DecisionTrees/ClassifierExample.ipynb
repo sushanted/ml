{
 "cells": [
  {
   "cell_type": "markdown",
   "id": "f17e6dcb-310a-4d38-b111-861673fe76d6",
   "metadata": {},
   "source": [
    "### Very simple Classifier example"
   ]
  },
  {
   "cell_type": "code",
   "execution_count": 34,
   "id": "5ccab59d-eb40-44b4-bf0b-d766795a42e5",
   "metadata": {},
   "outputs": [
    {
     "name": "stdout",
     "output_type": "stream",
     "text": [
      "|--- CycleAvailable <= 0.50\n",
      "|   |--- class: No\n",
      "|--- CycleAvailable >  0.50\n",
      "|   |--- Work <= 0.50\n",
      "|   |   |--- RainCoatAvailable <= 0.50\n",
      "|   |   |   |--- Rain <= 0.50\n",
      "|   |   |   |   |--- class: GO\n",
      "|   |   |   |--- Rain >  0.50\n",
      "|   |   |   |   |--- class: No\n",
      "|   |   |--- RainCoatAvailable >  0.50\n",
      "|   |   |   |--- class: GO\n",
      "|   |--- Work >  0.50\n",
      "|   |   |--- class: No\n",
      "\n",
      "['GO' 'No']\n",
      "[[1. 0.]\n",
      " [0. 1.]]\n"
     ]
    }
   ],
   "source": [
    "from sklearn.tree import DecisionTreeClassifier\n",
    "from sklearn.tree import export_text\n",
    "\n",
    "classifier = DecisionTreeClassifier(random_state=0)\n",
    "\n",
    "#classifier.fit([[1,2,3],[1,4,5],[2,5,6],[2,5,6]],['A','B','C','D'])\n",
    "\n",
    "'''\n",
    "arr =''\n",
    "for i in range(0,2):\n",
    "    for j in range(0,2):\n",
    "        for k in range(0,2):\n",
    "            for l in range(0,2):\n",
    "                arr += f\"[{i},{j},{k},{l}],\"\n",
    "                \n",
    "print(arr)\n",
    "'''\n",
    "                \n",
    "\n",
    "classifier.fit([[0,0,0,0],[0,0,0,1],[0,0,1,0],[0,0,1,1],[0,1,0,0],[0,1,0,1],[0,1,1,0],[0,1,1,1],[1,0,0,0],[1,0,0,1],[1,0,1,0],[1,0,1,1],[1,1,0,0],[1,1,0,1],[1,1,1,0],[1,1,1,1]],\n",
    "               ['No','GO','No','No','No','No','No','No','No','GO','No','No','No','GO','No','No'])\n",
    "\n",
    "r = export_text(classifier, feature_names=['RainCoatAvailable','Rain','Work','CycleAvailable'])\n",
    "\n",
    "print(r)\n",
    "\n",
    "#print(classifier.get_depth())\n",
    "#print(classifier.get_n_leaves())\n",
    "\n",
    "print(classifier.predict([[0,0,0,1],[0,0,0,0]]))\n",
    "print(classifier.predict_proba([[0,0,0,1],[0,0,0,0]]))\n"
   ]
  },
  {
   "cell_type": "code",
   "execution_count": null,
   "id": "37242557-0f90-446e-9487-156b549994df",
   "metadata": {},
   "outputs": [],
   "source": []
  }
 ],
 "metadata": {
  "kernelspec": {
   "display_name": "Python 3",
   "language": "python",
   "name": "python3"
  },
  "language_info": {
   "codemirror_mode": {
    "name": "ipython",
    "version": 3
   },
   "file_extension": ".py",
   "mimetype": "text/x-python",
   "name": "python",
   "nbconvert_exporter": "python",
   "pygments_lexer": "ipython3",
   "version": "3.8.1"
  }
 },
 "nbformat": 4,
 "nbformat_minor": 5
}
