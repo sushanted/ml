{
 "cells": [
  {
   "cell_type": "markdown",
   "metadata": {},
   "source": [
    "# Python\n",
    "## Basic Python\n",
    "## Numpy\n",
    "## Matplotlib\n",
    "## Pandas"
   ]
  },
  {
   "cell_type": "markdown",
   "metadata": {},
   "source": [
    "# Statistics\n",
    "## Basics\n",
    "### Normal distribution\n",
    "### Central limit theorom : (how is it used?)\n",
    "### Covariance\n",
    "### Correlation\n",
    "\n",
    "## Probability\n",
    "### Conditional probability\n",
    "## Baysian statistics\n",
    "### Bayes theorem\n",
    "\n",
    "$\\frac{P(A),P(B)}$\n",
    "\n",
    "\n",
    "\n",
    "\n",
    "\n",
    "\n",
    "\n",
    "\n",
    "\n",
    "\n"
   ]
  },
  {
   "cell_type": "markdown",
   "metadata": {},
   "source": [
    "\n",
    "# General ML\n",
    "## Classification\n",
    "### Linear regression\n",
    "#### Ridge regression\n",
    "#### p-values for regression (F value) : TODO : understand this\n",
    "### Logistic regression\n",
    "### Decision trees\n",
    "### Decision Trees in Python from Start to Finish : https://www.youtube.com/watch?v=q90UDEgYqeI\n",
    "### Naive Bayes \n",
    "#### https://www.youtube.com/watch?v=bTs-QA2oJSE\n",
    "#### Questions : \n",
    "#### 1. Why to multiply probabilities\n",
    "#### 2. Proportionality\n",
    "\n",
    "## Clustering"
   ]
  },
  {
   "cell_type": "markdown",
   "metadata": {},
   "source": [
    "\n",
    "# Deep learning\n",
    "## Neural networks\n",
    "### https://www.youtube.com/playlist?list=PLZHQObOWTQDNU6R1_67000Dx_ZCJB-3pi\n",
    "### Book : http://neuralnetworksanddeeplearning.com/chap1.html"
   ]
  },
  {
   "cell_type": "markdown",
   "metadata": {},
   "source": [
    "# General resources\n",
    "Python modules (built over numpy,matplotlib,scipy) for different kinds of learning algorithms:  https://scikit-learn.org/stable/"
   ]
  },
  {
   "cell_type": "code",
   "execution_count": null,
   "metadata": {},
   "outputs": [],
   "source": []
  }
 ],
 "metadata": {
  "kernelspec": {
   "display_name": "Python 3",
   "language": "python",
   "name": "python3"
  },
  "language_info": {
   "codemirror_mode": {
    "name": "ipython",
    "version": 3
   },
   "file_extension": ".py",
   "mimetype": "text/x-python",
   "name": "python",
   "nbconvert_exporter": "python",
   "pygments_lexer": "ipython3",
   "version": "3.6.4"
  }
 },
 "nbformat": 4,
 "nbformat_minor": 2
}
