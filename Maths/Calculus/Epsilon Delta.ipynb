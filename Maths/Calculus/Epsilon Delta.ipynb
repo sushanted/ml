{
 "cells": [
  {
   "cell_type": "markdown",
   "metadata": {},
   "source": [
    "#### You provide me any $\\epsilon $ and I can give you back a $\\delta$. \n",
    "\n",
    "f(x) is a function of x, by changing x we can draw graph of f(x). \n",
    "\n",
    "f(c) has a specific value K, where c and K are constants. \n",
    "\n",
    "Note that the f(x) might not be defined at the point a. For example $\\frac{x^2}{x}$ is not defined at 0, but at all other points f(x) = x  \n",
    "\n",
    "with $\\epsilon $ we can confine the value of f(x) to the interval $[L-\\epsilon ,L+\\epsilon ]$ . (Can consider this value on y-axis)\n",
    "\n",
    "with $\\delta $ we can confine the value of x to the interval $[a-\\delta,a+\\delta]$\n",
    "\n",
    "when we say x -> 3, we mean x-3 -> 0, OR |x-3| < $\\delta$ , and usually we mean that $\\delta$ is very very small\n",
    "\n",
    "In eplilon-delta definition we relate epsilon interval above with the delta interval\n",
    "\n",
    "By epsilon-delta definition we say that, for **every** $\\epsilon$ (usually we mean smaller and smaller values of $\\epsilon$), we can provide a $\\delta$ such that the value of f(x) is limited into the epsilon range when value of x is limited into delta range. For smaller and smaller values of $\\epsilon$ around L we can provide smaller and smaller values of $\\delta$ around a (except a because f(a) might not be not defined).\n",
    "\n",
    "**For infinitely small $\\epsilon$ the value of f(x) would converge to L and still when limit exist we would be able to provide a $\\delta$ which would be infinitely small and thus x converging to a. We can provide a  𝛿  such that the value of f(x) is limited into the infinitely small epsilon range when value of x is limited into infinitely small delta range: when x converge to a, f(x) converge to L AND this is the well understood limit definition derived from the epsilon-delta definition**\n",
    "\n",
    "When x->a , f(x) converge to L. For example  $\\frac{x^2}{x}$ converge to x, as x->0. e.g. $ \\frac{0.0000001^2}{0.0000001} = 0.0000001 $\n",
    "\n",
    "For any large $\\epsilon$ we can provide small $\\delta$, by definition f(x) in $\\delta$ range would be always smaller than (or fit in) the $\\epsilon$ range. In other words there is no upper limit on value of $\\epsilon$, as the small $\\delta$ value works for any larger and larger $\\epsilon$ values. In our example, $\\delta$ of 0.0000001 works for $\\epsilon$ values 0.001, 1, 100, 10000000.  \n",
    "f(0.0000001) = 0.0000001 < 0.0000001 + 1000000.\n",
    "\n",
    "\n",
    "To prove a limit exists and it's value is L, we need to find an arbitrary small $\\delta$ such that we can establish an inequality between x and $\\delta$, e.g. $ 0< |x-a| < \\delta $ , operating on which we get the inequality between f(x)-L and $\\epsilon$.  \n",
    "\n",
    "For example to prove $\\lim_{x\\to 1} 2x+3 = 5$  \n",
    "\n",
    "we need to prove that, |2x+3 -5| < $\\epsilon$  \n",
    "\n",
    "$ |2x-2| < \\epsilon $  \n",
    "\n",
    "$ 2|x-1| < \\epsilon $  \n",
    "\n",
    "$ |x-1| < \\frac{\\epsilon}{2} $  \n",
    "\n",
    "We already have 0 < |x-1| < $\\delta$, we can choose $\\delta = \\frac{\\epsilon}{2}$  \n",
    "\n",
    "0 < |x-1| < $\\delta$  \n",
    "\n",
    "0 < 2|x-1| < 2$\\delta$  \n",
    "\n",
    "0 < |2x-2| <  2$\\delta$  \n",
    "\n",
    "0 < |2x+3 - 5| < 2$\\delta$  \n",
    "\n",
    "0 < |2x+3 - 5| < 2$\\frac{\\epsilon}{2}$   \n",
    "\n",
    "0 < |2x+3 - 5| < $\\epsilon$   \n",
    "\n",
    "Once we have proved above, for any value provided as $\\epsilon$ we can choose $\\delta = \\frac{\\epsilon}{2}$ and we can show 0 < |2x+3 - 5| < $\\epsilon$    \n",
    "\n",
    "Thus we don't have to prove for all values of $\\epsilon$, but establish a relation between $\\epsilon$ and $\\delta$ and prove generically that when $ |x- a| < \\delta$ then $ |f(x)-L| < \\epsilon $\n",
    "\n",
    "\n"
   ]
  },
  {
   "cell_type": "code",
   "execution_count": null,
   "metadata": {},
   "outputs": [],
   "source": []
  },
  {
   "cell_type": "code",
   "execution_count": null,
   "metadata": {},
   "outputs": [],
   "source": []
  }
 ],
 "metadata": {
  "kernelspec": {
   "display_name": "Python 3",
   "language": "python",
   "name": "python3"
  },
  "language_info": {
   "codemirror_mode": {
    "name": "ipython",
    "version": 3
   },
   "file_extension": ".py",
   "mimetype": "text/x-python",
   "name": "python",
   "nbconvert_exporter": "python",
   "pygments_lexer": "ipython3",
   "version": "3.6.4"
  }
 },
 "nbformat": 4,
 "nbformat_minor": 5
}
