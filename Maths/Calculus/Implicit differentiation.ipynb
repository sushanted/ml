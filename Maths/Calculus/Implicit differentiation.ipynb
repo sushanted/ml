{
 "cells": [
  {
   "cell_type": "markdown",
   "id": "c8f6a08d",
   "metadata": {},
   "source": [
    "### Implicit differentiation"
   ]
  },
  {
   "cell_type": "markdown",
   "id": "7e0e5650",
   "metadata": {},
   "source": [
    "$ \\frac{d}{dx}LHS = \\frac{d}{dx} RHS $"
   ]
  },
  {
   "cell_type": "markdown",
   "id": "1b0214de",
   "metadata": {},
   "source": [
    "Consider an equation of x and y involving a constant c, g(x,y) = c.\n",
    "\n",
    "For example:  \n",
    "\n",
    "$x^2 + y^2 = 25$  \n",
    "\n",
    "Here x and y are dependant on each other, they change in such a way that the above equation always satisfies. We can represent them in terms of each other.  \n",
    "\n",
    "$y = \\sqrt{25 - x^2}$  \n",
    "\n",
    "$x = \\sqrt{25 - y^2}$  \n",
    "\n",
    "Using above representation we can get $\\frac{dy}{dx}$ or $\\frac{dx}{dy}$  \n",
    "\n",
    "\n",
    "\n",
    "\n",
    "\n"
   ]
  },
  {
   "cell_type": "markdown",
   "id": "84a110d5",
   "metadata": {},
   "source": [
    "We can see above that y and x can be called functions of each other. Say, y = f(x), then  \n",
    "\n",
    "$x^2 + y^2 = 25$  \n",
    "\n",
    "$x^2 + f(x)^2 = 25$  \n",
    "\n",
    "We know that the derivative of a constant is 0 (canstant = no change -> 0 rate of change). Therefore in above case, as the function $x^2 + f(x)^2$ always gives out the constant 25, it's derivative must be 0.  \n",
    "\n",
    "$\\frac{d}{dx} (x^2 + f(x)^2)  = 0 $  \n",
    "\n",
    "$\\frac{d}{dx} x^2 + \\frac{d}{dx}f(x)^2  = 0 $  \n",
    "\n",
    "$ 2x + 2f(x)f'(x) = 0$$\\tag{applying chain rule}$  \n",
    "\n",
    "$ f'(x)= \\frac{-2x}{2f(x)} $  \n",
    "\n",
    "$ f'(x)= \\frac{-x}{f(x)} $  \n",
    "\n",
    "$ f'(x)= \\frac{-x}{y} $  \n",
    "\n",
    "$ f'(x) = \\frac{d}{dx} f(x) = \\frac{dy}{dx} = \\frac{-x}{y} $  \n",
    "\n",
    "Thus using implicit differentiation (treating one variable as function of another, and then using chain rule) we could easlily find out derivative of those two variables.   \n",
    "\n",
    "This is applicable in general, when g(x,y) = c. We can represent y = f(x), and replace the f(x) representation in the equation.\n",
    "\n",
    "\n",
    "\n",
    "\n",
    "\n"
   ]
  },
  {
   "cell_type": "markdown",
   "id": "4c38cc25",
   "metadata": {},
   "source": [
    "Alternatively, we can introduce a third variable t, and say that x and y are functions of t.  \n",
    "\n",
    "$x = f_x(t)$  \n",
    "$y = f_y(t)$  \n",
    "\n",
    "Note, because g(x,y) = c, y can be represented as a function of x. If we could find t such that $x = f_x(t)$, y being a function of x, would also be a function of t. $ y = h(x) = h(f_x(t)) = f_y(t)$  \n",
    "\n",
    "\n",
    "The equation then becomes:  \n",
    "\n",
    "$f_x(t)^2 + f_y(t)^2 = 25$  \n",
    "\n",
    "Which is completely represented in terms of t (or any functions of t).  \n",
    "\n",
    "Now we can differentiate it with t.  \n",
    "\n",
    "$\\frac{d}{dt}[f_x(t)^2 + f_y(t)^2] = 0 $  \n",
    "\n",
    "$\\frac{d}{dt}f_x(t)^2 + \\frac{d}{dt}f_y(t)^2 = 0 $  \n",
    "\n",
    "$2f_x(t).f'_x(t) + 2f_y(t).f'_y(t) = 0 $  \n",
    "\n",
    "$f_x(t).f'_x(t) + f_y(t).f'_y(t) = 0 $  \n",
    "\n",
    "$f_y(t).f'_y(t) = -f_x(t).f'_x(t) $  \n",
    "\n",
    "$\\frac{f'_y(t)}{f'_x(t)} = -\\frac{f_x(t)}{f_y(t)} = \\frac{-x}{y}$  \n",
    "\n",
    "$ \\frac{\\frac{dy}{dt}}{\\frac{dx}{dt}} = \\frac{-x}{y}$  \n",
    "\n",
    "$ \\frac{dy}{dx} = \\frac{-x}{y}$  \n",
    "\n",
    "Simplified,  \n",
    "\n",
    "$x^2 + y^2 = 25$  \n",
    "\n",
    "$ \\frac{d}{dt}x^2 + \\frac{d}{dt}y^2 = 0 $  \n",
    "\n",
    "$ 2x\\frac{dx}{dt} + 2y\\frac{dy}{dt} = 0 $  \n",
    "\n",
    "$ 2x dx + 2y dy = 0 $  \n",
    "\n",
    "$ \\frac{dy}{dx} = \\frac{-x}{y}$  \n",
    "\n",
    "\n",
    "\n",
    "\n",
    "\n"
   ]
  },
  {
   "cell_type": "code",
   "execution_count": null,
   "id": "1aa050dd",
   "metadata": {},
   "outputs": [],
   "source": []
  }
 ],
 "metadata": {
  "kernelspec": {
   "display_name": "Python 3",
   "language": "python",
   "name": "python3"
  },
  "language_info": {
   "codemirror_mode": {
    "name": "ipython",
    "version": 3
   },
   "file_extension": ".py",
   "mimetype": "text/x-python",
   "name": "python",
   "nbconvert_exporter": "python",
   "pygments_lexer": "ipython3",
   "version": "3.8.1"
  }
 },
 "nbformat": 4,
 "nbformat_minor": 5
}
