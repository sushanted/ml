{
 "cells": [
  {
   "cell_type": "markdown",
   "metadata": {},
   "source": [
    "#### 1. Types of differentiations and characteristics \n",
    "\n",
    "(can skip the reverse mode in the below video, it is better explained in the next video (2))\n",
    "https://www.youtube.com/watch?v=wG_nF1awSSY&ab_channel=AriSeff\n",
    "\n",
    "#### 2. Reverse mode automatic differentiation with Python code\n",
    "\n",
    "https://youtu.be/R_m4kanPy6Q?list=TLPQMjAxMDIwMjIwor-KM_B3Ww&t=281\n",
    "\n",
    "(Can go back to reverse mode explained in the last video (1))\n",
    "\n",
    "#### 4. Forward Mode\n",
    "\n",
    "![auto_diff_forward_mode](auto_diff_forward_mode.png)\n",
    "\n",
    "(Source: https://www.geogebra.org/calculator/jtubegxn)  \n",
    "\n",
    "\n",
    "This can be implemented using operator overloading in Python. \n",
    "\n",
    "\n"
   ]
  },
  {
   "cell_type": "code",
   "execution_count": 1,
   "metadata": {},
   "outputs": [],
   "source": [
    "class Var:\n",
    "    \n",
    "    def __init__(self,value,derivative=0):\n",
    "        self.value = value\n",
    "        self.derivative = derivative\n",
    "    \n",
    "    def __add__(self,another):\n",
    "        return Var(self.value + another.value,self.derivative+another.derivative)\n",
    "    \n",
    "    def __mul__(self,another):\n",
    "        return Var(self.value * another.value,self.derivative*another.value+another.derivative*self.value)\n",
    "    \n",
    "    def __str__(self):\n",
    "        return f\"Value={self.value} derivative={self.derivative}\""
   ]
  },
  {
   "cell_type": "code",
   "execution_count": 2,
   "metadata": {},
   "outputs": [
    {
     "name": "stdout",
     "output_type": "stream",
     "text": [
      "Value=6 derivative=2\n"
     ]
    }
   ],
   "source": [
    "# Simple example\n",
    "\n",
    "x = Var(3,1) # seed value\n",
    "y = Var(2) # seed value\n",
    "\n",
    "z= x*y\n",
    "\n",
    "print(z)"
   ]
  },
  {
   "cell_type": "code",
   "execution_count": 3,
   "metadata": {},
   "outputs": [
    {
     "name": "stdout",
     "output_type": "stream",
     "text": [
      "Value=90 derivative=33\n"
     ]
    }
   ],
   "source": [
    "# Above graph, derivative wrt x\n",
    "\n",
    "w = Var(1)\n",
    "x = Var(3,1)\n",
    "y = Var(2)\n",
    "z = Var(3)\n",
    "t = x+y\n",
    "u = w+t\n",
    "v = t*z\n",
    "f = u*v\n",
    "\n",
    "print(f)\n"
   ]
  },
  {
   "cell_type": "code",
   "execution_count": 4,
   "metadata": {},
   "outputs": [
    {
     "name": "stdout",
     "output_type": "stream",
     "text": [
      "Value=90 derivative=33\n"
     ]
    }
   ],
   "source": [
    "# Above graph, derivative wrt y\n",
    "\n",
    "w = Var(1)\n",
    "x = Var(3)\n",
    "y = Var(2,1)\n",
    "z = Var(3)\n",
    "t = x+y\n",
    "u = w+t\n",
    "v = t*z\n",
    "f = u*v\n",
    "\n",
    "print(f)"
   ]
  },
  {
   "cell_type": "code",
   "execution_count": 5,
   "metadata": {},
   "outputs": [
    {
     "name": "stdout",
     "output_type": "stream",
     "text": [
      "Value=90 derivative=15\n"
     ]
    }
   ],
   "source": [
    "# Above graph, derivative wrt w\n",
    "\n",
    "w = Var(1,1)\n",
    "x = Var(3)\n",
    "y = Var(2)\n",
    "z = Var(3)\n",
    "t = x+y\n",
    "u = w+t\n",
    "v = t*z\n",
    "f = u*v\n",
    "\n",
    "print(f)"
   ]
  },
  {
   "cell_type": "code",
   "execution_count": 6,
   "metadata": {},
   "outputs": [
    {
     "name": "stdout",
     "output_type": "stream",
     "text": [
      "Value=90 derivative=30\n"
     ]
    }
   ],
   "source": [
    "# Above graph, derivative wrt z\n",
    "\n",
    "w = Var(1)\n",
    "x = Var(3)\n",
    "y = Var(2)\n",
    "z = Var(3,1)\n",
    "t = x+y\n",
    "u = w+t\n",
    "v = t*z\n",
    "f = u*v\n",
    "\n",
    "print(f)"
   ]
  },
  {
   "cell_type": "markdown",
   "metadata": {},
   "source": [
    "#### 5. Reverse mode\n",
    "\n",
    "![auto_diff_reverse_mode](auto_diff_reverse_mode.png)\n",
    "\n",
    "(Source: https://www.geogebra.org/calculator/aaadrekj)\n",
    "\n",
    "The expressions can be evaluated strating from simple variables (like, w,x,y,z in the above diagram) in the forward pass. All the intermediate results are cached (like u and v in the above diagram). With these cached values, derivatives can be eaesily calculated in the reverse pass.  \n",
    "\n",
    "In the reverse pass, derivative for each expression E is calculated and derivatives for the expressions (E1,E2) which are part of E are calculated recursively. E = E1 {op} E2.  \n",
    "\n",
    "For example, in the above graph, derivative for f is calculated and using the results (chain rule), derivatives of u and v are calculated and so on. Whenever there are two paths meeting at a node (like the node t above), derivatives from both sides are added (multivariable chain rule). "
   ]
  },
  {
   "cell_type": "code",
   "execution_count": null,
   "metadata": {},
   "outputs": [],
   "source": []
  }
 ],
 "metadata": {
  "kernelspec": {
   "display_name": "Python 3",
   "language": "python",
   "name": "python3"
  },
  "language_info": {
   "codemirror_mode": {
    "name": "ipython",
    "version": 3
   },
   "file_extension": ".py",
   "mimetype": "text/x-python",
   "name": "python",
   "nbconvert_exporter": "python",
   "pygments_lexer": "ipython3",
   "version": "3.6.4"
  }
 },
 "nbformat": 4,
 "nbformat_minor": 2
}
