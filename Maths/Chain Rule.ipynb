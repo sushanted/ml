{
 "cells": [
  {
   "cell_type": "markdown",
   "id": "a241799a-3825-4168-a4e6-d61fcb18fc59",
   "metadata": {},
   "source": [
    "#### Chain Rule\n",
    "\n",
    "$ \\frac{dy}{dx} $ is the derivative or instantaneous slope at a given point.  \n",
    "\n",
    "$ \\frac{d}{dx} x^2  = 2x$  \n",
    "It means when x changes by dx, y changes by 2x.dx  \n",
    "\n",
    "$ dy = 2x dx$  \n",
    "\n",
    "Now consider following relations  \n",
    "\n",
    "$ x = w^2 $  \n",
    "$ y = x^3 $  \n",
    "$ z = 5y  $  \n",
    "\n",
    "$ \\frac{dx}{dw} = 2w $  \n",
    "$ \\frac{dy}{dx} = 3x^2 $  \n",
    "$ \\frac{dz}{dy} = 5 $  \n",
    "\n",
    "$ dx = 2w dw $  \n",
    "$ dy = 3x^2 dx $  \n",
    "$ dz = 5 dy $  \n",
    "\n",
    "$ dz = 5 *3x^2 dx $  \n",
    "$ dz = 5 *3x^2 * 2w dw $  \n",
    "\n",
    "$ \\therefore$  \n",
    "\n",
    "$ \\frac{dz}{dx} = 5 *3x^2 = \\frac{dz}{dy}\\frac{dy}{dx} $  \n",
    "\n",
    "$ \\frac{dz}{dw} = 5 *3x^2 * 2w = \\frac{dz}{dy}\\frac{dy}{dx}\\frac{dx}{dw} $  \n",
    "\n",
    "Also  \n",
    "\n",
    "$ \\frac{dz}{dw} = \\frac{dz}{dy}\\frac{dy}{dw}$  \n",
    "\n",
    "##### Important note: If we know a derivative $\\frac{dy}{dw}$ and we know the relation between z and y, we can calculate $\\frac{dz}{dw} $ using chain rule  \n",
    "\n",
    "The chain can be very long, if we know the derivative of last term to y, and if we know relation between x and y, we can get derivatove of last term to x.\n",
    "\n",
    "$ \\frac{dx_1}{dx_5} = \\frac{dx_1}{dx_4}\\frac{dx_4}{dx_5} $  \n",
    "\n",
    "$ \\frac{dx_1}{dx_4} = \\frac{dx_1}{dx_3}\\frac{dx_3}{dx_4} $ \n",
    "\n",
    "and so on...\n",
    "\n",
    "\n",
    "\n",
    "\n",
    "\n",
    "\n",
    "\n",
    "\n",
    "\n",
    "\n",
    "\n",
    "\n"
   ]
  },
  {
   "cell_type": "code",
   "execution_count": null,
   "id": "cf58820f-1ca5-4866-b469-5284c6d7b088",
   "metadata": {},
   "outputs": [],
   "source": []
  },
  {
   "cell_type": "code",
   "execution_count": null,
   "id": "5902e743-998c-4ae8-b49f-384525ec122b",
   "metadata": {},
   "outputs": [],
   "source": []
  },
  {
   "cell_type": "code",
   "execution_count": null,
   "id": "aaaf1ac1-c182-4135-a96d-82259ae555d7",
   "metadata": {},
   "outputs": [],
   "source": []
  }
 ],
 "metadata": {
  "kernelspec": {
   "display_name": "Python 3",
   "language": "python",
   "name": "python3"
  },
  "language_info": {
   "codemirror_mode": {
    "name": "ipython",
    "version": 3
   },
   "file_extension": ".py",
   "mimetype": "text/x-python",
   "name": "python",
   "nbconvert_exporter": "python",
   "pygments_lexer": "ipython3",
   "version": "3.8.1"
  }
 },
 "nbformat": 4,
 "nbformat_minor": 5
}
