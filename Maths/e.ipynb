{
 "cells": [
  {
   "cell_type": "markdown",
   "id": "82a26fa0-225b-4964-9463-690019f58555",
   "metadata": {},
   "source": [
    "### e is a special constant\n",
    "\n",
    "derivative of $ a^x $  \n",
    "\n",
    "$ \\frac {dy}{dx} = \\frac{d(a^x)}{dx} $  \n",
    "\n",
    "$ = \\frac{a^{(x+dx)} - a^x}{dx} $  \n",
    "\n",
    "$ = \\frac{a^x(a^{dx}-1)}{dx} $  \n",
    "\n",
    "As dx approaches 0, for any value of a, we get a constant for $ \\frac{(a^{dx}-1)}{dx} $  \n",
    "\n",
    "e.g,   \n",
    "for a = 2 , 0.693  \n",
    "for a = 3 , 1.0986  \n",
    "for a = 2.718, 1  \n",
    "\n",
    "There must be a number for which the value should be 1, let's say that number is e , then  \n",
    "\n",
    "$ \\frac{(e^{dx}-1)}{dx} = 1 $  \n",
    "\n",
    "For very small value of dx,\n",
    "\n",
    "$ \\lim_{dx \\to 0} \\frac{(e^{dx}-1)}{dx} = 1 $  \n",
    "\n",
    "\n",
    "$ \\lim_{dx \\to 0} {e^{dx}} - 1 = dx $  \n",
    "\n",
    "$ \\lim_{dx \\to 0} {e^{dx}} =  1 + dx $  \n",
    "\n",
    "$  {e} =  \\lim_{dx \\to 0}{(1 + dx)}^\\frac{1}{dx} $  \n",
    "\n",
    "### $  {e} =  \\lim_{dx \\to 0} {(1 + dx)}^\\frac{1}{dx} $  \n",
    "\n",
    "\n",
    "if dx = $ \\frac{1}{n} $, then $ n \\to \\infty $  \n",
    "\n",
    "### $  {e} =  \\lim_{n \\to \\infty} {(1 + \\frac{1}{n})}^n $  \n",
    "\n",
    "\n",
    "We can observe that, if we put a small value say 0.0001 in above equation  \n",
    "\n",
    "\n",
    "#### $ e = {(1 + 0.0001)}^\\frac{1}{0.0001} = 2.7181 $  https://www.google.com/search?q=%281+%2B+0.0001%29%5E%281%2F0.0001%29\n",
    "\n",
    "\n",
    "\n",
    "\n",
    "\n",
    "\n",
    "\n",
    "\n",
    "\n",
    "\n",
    "\n",
    "\n",
    "\n",
    "\n",
    "\n",
    "\n",
    "\n"
   ]
  },
  {
   "cell_type": "code",
   "execution_count": null,
   "id": "2f8a547c-34e5-438c-ba81-b4d6ed5ef573",
   "metadata": {},
   "outputs": [],
   "source": []
  },
  {
   "cell_type": "code",
   "execution_count": null,
   "id": "1b243838-c37d-4e5f-a85f-8bb6c0dead2c",
   "metadata": {},
   "outputs": [],
   "source": []
  }
 ],
 "metadata": {
  "kernelspec": {
   "display_name": "Python 3",
   "language": "python",
   "name": "python3"
  },
  "language_info": {
   "codemirror_mode": {
    "name": "ipython",
    "version": 3
   },
   "file_extension": ".py",
   "mimetype": "text/x-python",
   "name": "python",
   "nbconvert_exporter": "python",
   "pygments_lexer": "ipython3",
   "version": "3.8.1"
  }
 },
 "nbformat": 4,
 "nbformat_minor": 5
}
