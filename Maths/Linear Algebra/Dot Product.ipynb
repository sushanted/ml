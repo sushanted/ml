{
 "cells": [
  {
   "cell_type": "markdown",
   "id": "49690d7b-3fcf-49ad-8c42-04c3b2ff5d74",
   "metadata": {},
   "source": [
    "### Dot product"
   ]
  },
  {
   "cell_type": "markdown",
   "id": "78dec0a4-4992-40d8-bcdf-dea55b2ff924",
   "metadata": {},
   "source": [
    "An example:  \n",
    "Work = Force * distance travelled in the direction of force  \n",
    "\n",
    "(Philosophy: Your efforts should be in the direction of your goal, you will reach to the goal sooner if the direction of efforts is the same)\n",
    "\n",
    "http://youtu.be/KDHuWxy53uM\n",
    "\n",
    "Intuition:  \n",
    "https://www.youtube.com/watch?v=FrDAU2N0FEg\n",
    "\n",
    "Aspects:  \n",
    "https://math.stackexchange.com/questions/805954/what-does-the-dot-product-of-two-vectors-represent"
   ]
  },
  {
   "cell_type": "markdown",
   "id": "903b3bdd-b673-444e-9ca1-e264798e1d58",
   "metadata": {},
   "source": [
    "The dot product is equivalent to a transformation from 2D space to 1D space, the tranformation matrix representing one vector.\n",
    "\n",
    "$ \\begin{bmatrix} a \\\\ b \\end{bmatrix} . \\begin{bmatrix} c \\\\ d \\end{bmatrix}  = \\begin{bmatrix} a \\ b \\end{bmatrix} \\begin{bmatrix} c \\\\ d \\end{bmatrix} = a.c + b.d $  \n",
    "\n",
    "$\\begin{bmatrix} a \\ b \\end{bmatrix}$ is the tranformation which transforms $\\begin{bmatrix} c \\\\ d \\end{bmatrix}$  \n",
    "\n",
    "\n",
    "\n"
   ]
  },
  {
   "cell_type": "markdown",
   "id": "1d29639c-ccc2-441a-867a-8d6d7bd6f587",
   "metadata": {},
   "source": [
    "#### Duality with transformation\n",
    "\n",
    "https://www.youtube.com/watch?v=LyGKycYT2v0\n",
    "\n",
    "Above video talks about a number line representing 1D vectors drawn onto a 2D space. There would be a transformation from the 2D space to the 1D space represented by the number line. Specifically a 1x2 transformation matrix transforming any vector from 2D space to a 1D vector(or a number) on the number line, which is the projection of the vector in the 2D space.  \n",
    "\n",
    "A unit vector $\\vec{u}$ can be represented in both 2D and 1D space, which is along the number line and which is also a 2D vector in the input 2D space. Now we need to find the 2x1 tranformation matrix which tranforms vectors from the input 2D space into the projection values (Ignore this : $||\\vec{v}||cos\\theta$) in the output 1D space.  \n",
    "\n",
    "To find it, we need to find where the basis vectors land into the output space. These would be two numbers on the number line defining the basis vectors in the output 1D space. By symmetry(refer : https://youtu.be/LyGKycYT2v0?t=535), those would x and y co-ordinates of $\\vec{u}$, say $u_x$ and $u_y$. Therefore the transformation matrix would be $ \\begin{bmatrix} u_x \\ u_y \\end{bmatrix} $, by definition of the transformation.  \n",
    "\n",
    "Now using this matrix we can get projection of any vector $ \\vec{v} = \\begin{bmatrix} x \\\\ y \\end{bmatrix}$ in the input space onto the number line.  \n",
    "\n",
    "$ \\begin{bmatrix} u_x \\ u_y \\end{bmatrix} \\begin{bmatrix} x \\\\ y \\end{bmatrix} = u_x * x + u_y * y$  \n",
    "\n",
    "Which is computationally same as the dot product between $\\vec{u}$ and $\\vec{v}$   \n",
    "\n",
    "$ \\begin{bmatrix} u_x \\\\ u_y \\end{bmatrix} \\begin{bmatrix} x \\\\ y \\end{bmatrix} = u_x * x + u_y * y$  \n",
    "\n",
    "In another words, the dot product between a unit vector and any vector is the projection tranformation of the vector onto the span of the unit vector. \n",
    "\n",
    "Note that, $u_x$ and $u_y$ are 1D vectors in the output 1D space.  \n",
    "\n",
    "Any non-unit vector can be represented as a scaled version of the unit vector $\\begin{bmatrix} n*u_x \\\\ n*u_y \\end{bmatrix}$. Note that both the vectors would have the same span.  \n",
    "\n",
    "A general dot product between any two vectors can be represented as a **\"scaled projection transformation\"** i.e. a projection transformation (which is represented by the unit vector's co-ordinates) scaled to length of the non-unit vector to get a 1D vector along the number line.  \n",
    "\n",
    "\n",
    "$ \\vec{v}  = \\begin{bmatrix} n*u_x \\ n*u_y \\end{bmatrix}$  \n",
    "\n",
    "For example, if the non-unit vector $\\vec{v}$ on the number line is $ 3 \\vec{u}$, i.e. 3 times the unit vector, the final transformation needs to scale the transformed vector(which would have been just the projection in case of the transformation for unit vector) by 3. Which can be achieved by scaling the transformation itself by 3. i.e, scaling each basis vector by 3.  \n",
    "\n",
    "\n",
    "$ \\begin{bmatrix} u_x \\ u_y \\end{bmatrix} \\begin{bmatrix} x \\\\ y \\end{bmatrix} = u_x * x + u_y * y$  \n",
    "\n",
    "What final result we wanted is : $3 (u_x * x + *u_y * y)$  \n",
    "\n",
    "Which can be obtained by having the transformation as:  \n",
    "\n",
    "\n",
    "$ \\begin{bmatrix} 3*u_x \\ 3*u_y \\end{bmatrix}  = \\begin{bmatrix} v_x \\ v_y \\end{bmatrix} $$\\tag{$\\vec{u}$ and $\\vec{v}=3\\vec{u}$ being on the same span}$  \n",
    "\n",
    "Finally the transformation would be applied as:  \n",
    "\n",
    "$\\begin{bmatrix} v_x \\ v_y \\end{bmatrix} \\begin{bmatrix} x \\\\ y \\end{bmatrix} = v_x * x + v_y * y$  \n",
    "\n",
    "\n",
    "\n",
    "\n",
    "\n",
    "\n",
    "\n"
   ]
  },
  {
   "cell_type": "code",
   "execution_count": null,
   "id": "6d0d5eeb-a3bd-403d-b107-6a88b142197c",
   "metadata": {},
   "outputs": [],
   "source": []
  }
 ],
 "metadata": {
  "kernelspec": {
   "display_name": "Python 3",
   "language": "python",
   "name": "python3"
  },
  "language_info": {
   "codemirror_mode": {
    "name": "ipython",
    "version": 3
   },
   "file_extension": ".py",
   "mimetype": "text/x-python",
   "name": "python",
   "nbconvert_exporter": "python",
   "pygments_lexer": "ipython3",
   "version": "3.8.1"
  }
 },
 "nbformat": 4,
 "nbformat_minor": 5
}
