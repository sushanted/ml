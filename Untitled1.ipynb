{
 "cells": [
  {
   "cell_type": "code",
   "execution_count": 11,
   "id": "6fe1a4b1-4f01-477c-9028-653983db853f",
   "metadata": {},
   "outputs": [
    {
     "name": "stdout",
     "output_type": "stream",
     "text": [
      "12.25\n"
     ]
    }
   ],
   "source": [
    "total = 0\n",
    "\n",
    "for xy in range(1,37):\n",
    "    \n",
    "    count = 0\n",
    "    for x in range(1,7):\n",
    "        for y in range(1,7):\n",
    "            if(xy == x*y):\n",
    "               count +=1\n",
    "    #print(f'\\n{xy*count}')\n",
    "    total += xy*count\n",
    "    \n",
    "print(total/36)"
   ]
  },
  {
   "cell_type": "code",
   "execution_count": null,
   "id": "17473ebf-6483-499e-8f92-948b8336c5ea",
   "metadata": {},
   "outputs": [],
   "source": []
  }
 ],
 "metadata": {
  "kernelspec": {
   "display_name": "Python 3",
   "language": "python",
   "name": "python3"
  },
  "language_info": {
   "codemirror_mode": {
    "name": "ipython",
    "version": 3
   },
   "file_extension": ".py",
   "mimetype": "text/x-python",
   "name": "python",
   "nbconvert_exporter": "python",
   "pygments_lexer": "ipython3",
   "version": "3.8.1"
  }
 },
 "nbformat": 4,
 "nbformat_minor": 5
}
