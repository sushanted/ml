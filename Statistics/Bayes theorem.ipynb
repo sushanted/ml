{
 "cells": [
  {
   "cell_type": "markdown",
   "metadata": {},
   "source": [
    "Consider a universal set U, inside that there are two overlapping sets A and B, $A\\cap B$ is the intersection set."
   ]
  },
  {
   "cell_type": "markdown",
   "metadata": {},
   "source": [
    "![alt text](set_intersection.png \"Title\")"
   ]
  },
  {
   "cell_type": "markdown",
   "metadata": {},
   "source": [
    "Let's say number of elements in each set are like:\n",
    "\n",
    "A => a\n",
    "\n",
    "B => b\n",
    "\n",
    "$A\\cap B$ => a_b\n",
    "\n",
    "U => n"
   ]
  },
  {
   "cell_type": "markdown",
   "metadata": {},
   "source": [
    "P(A) = $\\frac{a}{n}$        ........ 1\n",
    "\n",
    "P(B) = $\\frac{b}{n}$        ........ 2\n",
    "\n",
    "Probability of A given B (Probability that people like 'A'pple given that they already like 'B'anana)\n",
    "\n",
    "P(A|B) = $\\frac{a\\_b}{b}$    ....... 3\n",
    "\n",
    "Probability of B given A (Probability that people like 'B'anana given that they already like 'A'pple)\n",
    "\n",
    "P(B|A) = $\\frac{a\\_b}{a}$    ....... 4"
   ]
  },
  {
   "cell_type": "markdown",
   "metadata": {},
   "source": [
    "from 3 and 4 above\n",
    "\n",
    "a_b = P(A|B) x b = P(B|A) x a\n",
    "\n",
    "P(A|B) = P(B|A) x $\\frac{a}{b}$\n",
    "\n",
    "Let's divide numerator and denominator by n \n",
    "\n",
    "P(A|B) = P(B|A) x $\\frac{a}{b}$\n",
    "\n",
    "P(A|B) = P(B|A) x $\\frac{\\frac{a}{n}}{\\frac{b}{n}}$\n",
    "\n",
    "from 1 and 2 above\n",
    "\n",
    "P(A|B) = P(B|A) x $\\frac{P(A)}{P(B)}$"
   ]
  },
  {
   "cell_type": "markdown",
   "metadata": {},
   "source": [
    "Resources  \n",
    "https://www.youtube.com/watch?v=JGeTcRfKgBo (Conditional probability + bayes therom)\n"
   ]
  }
 ],
 "metadata": {
  "kernelspec": {
   "display_name": "Python 3",
   "language": "python",
   "name": "python3"
  },
  "language_info": {
   "codemirror_mode": {
    "name": "ipython",
    "version": 3
   },
   "file_extension": ".py",
   "mimetype": "text/x-python",
   "name": "python",
   "nbconvert_exporter": "python",
   "pygments_lexer": "ipython3",
   "version": "3.8.1"
  }
 },
 "nbformat": 4,
 "nbformat_minor": 4
}
