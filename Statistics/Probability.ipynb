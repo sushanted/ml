{
 "cells": [
  {
   "cell_type": "markdown",
   "id": "5f00aa81-cd5f-45b9-b6e7-f0dc90ab6b0d",
   "metadata": {},
   "source": [
    "### Addition rule"
   ]
  },
  {
   "cell_type": "markdown",
   "id": "8cd563b3-3b06-48c4-92e4-4dee6c3e8d94",
   "metadata": {},
   "source": [
    "Venn diagrams are very useful to get the probability of sets\n",
    "\n",
    "![alt text](set_intersection.png \"Title\")"
   ]
  },
  {
   "cell_type": "markdown",
   "id": "871f5947-83a0-4fb7-ad69-790633b047d2",
   "metadata": {},
   "source": [
    "$ p(A or B) = p(A) + p(B) - p(A \\cap B) $  \n",
    "\n",
    "probabilty of a person to be an employee or a student  \n",
    "There could be people who are both : an employee and a student  \n",
    "To calcualte the ratio of all people who are either employee or student over all people, \n",
    "all_employee_or_student = all_only_employee + all_only_student + all_both_employee_and_student  \n"
   ]
  },
  {
   "cell_type": "markdown",
   "id": "34b6c129-cd8e-467e-9815-c0620fef8bb2",
   "metadata": {},
   "source": [
    "### Multiplication Rule (Independent events)"
   ]
  },
  {
   "cell_type": "markdown",
   "id": "9079f78a-99a3-42bd-aa02-82172237ebbd",
   "metadata": {},
   "source": [
    "$ p(A and B) = p(A).p(B) $  "
   ]
  },
  {
   "cell_type": "markdown",
   "id": "39181bff-9a44-462c-9faa-f3c19c0a898d",
   "metadata": {},
   "source": [
    "Example: probability of a day to be weekend in a month having 31 days\n",
    "\n",
    "probabilty of a day to be a weekend = 2/7\n",
    "probability of a month to be a 31st days = 7/12\n",
    "\n",
    "All possible sample spaces of the compound probability, cartesian product:\n",
    "\n",
    "[S,M,T,W,T,F,S] * [Jan, Feb, Mar, Apr, May, Jun, Jul, Aug, Sep, Oct, Nov, Dec]   \n",
    "Total values : 7 * 12 = 84\n",
    "\n",
    "e.g. (S,Jan),(M,Sep),(F,Nov)\n",
    "\n",
    "All possible possible combinations of the compound probability, cartesian product:  \n",
    "\n",
    "[S,S] * [Jan,Mar,May,Jul,Aug,Oct,Dec]  \n",
    "Total values : 2 * 7 = 14\n",
    "\n",
    "So, total probability of a day to be weekend in a month having 31 days = $ \\frac{2*7}{7*12} = \\frac{2}{12} = \\frac{1}{6}$\n",
    "\n",
    "\n",
    "In general : when there are two events with probability  a/b and c/d  \n",
    "- (denominator)the sample space gets expanded to b * d (cartesian product of all possible values for both the events)  \n",
    "- (numerator)the values for the required conditions also form a cartesian product a * c to make all the required conditions\n",
    "\n",
    "So the compound probability becomes : $ \\frac{a*c}{b*d} = \\frac{a}{b} * \\frac{c}{d} $"
   ]
  },
  {
   "cell_type": "code",
   "execution_count": null,
   "id": "f7799801-c3a4-4d86-90df-f529d1f96a31",
   "metadata": {},
   "outputs": [],
   "source": []
  }
 ],
 "metadata": {
  "kernelspec": {
   "display_name": "Python 3",
   "language": "python",
   "name": "python3"
  },
  "language_info": {
   "codemirror_mode": {
    "name": "ipython",
    "version": 3
   },
   "file_extension": ".py",
   "mimetype": "text/x-python",
   "name": "python",
   "nbconvert_exporter": "python",
   "pygments_lexer": "ipython3",
   "version": "3.8.1"
  }
 },
 "nbformat": 4,
 "nbformat_minor": 5
}
