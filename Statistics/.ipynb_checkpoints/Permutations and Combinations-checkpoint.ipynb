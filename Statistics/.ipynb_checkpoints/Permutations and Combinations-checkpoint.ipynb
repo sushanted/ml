{
 "cells": [
  {
   "cell_type": "markdown",
   "id": "43ebbeb4-a703-42e5-afbf-46d9758b5bc4",
   "metadata": {},
   "source": [
    "### Permuations:"
   ]
  },
  {
   "cell_type": "markdown",
   "id": "f5857ba1-0536-4f95-8b31-252faeab9992",
   "metadata": {},
   "source": [
    "Arranging 5 people (A,B,C,D,E) at 3 positions (1,2,3)\n",
    "\n",
    "We can place any person at position 1 : 5 possibilities  \n",
    "We can place any person at position 2 except the person already placed at position 1 : 4 possibilities  \n",
    "We can place any person at position 3 except the persons already placed at position 1 and 2 : 3 possibilities  \n",
    "and so on.  \n",
    "\n",
    "If we draw a tree of all possible arrangements, it could look like:<br>\n",
    "\n",
    "root\n",
    "  * A\n",
    "    * B\n",
    "      * C\n",
    "      * D\n",
    "      * E\n",
    "    * C\n",
    "      * B\n",
    "      * D\n",
    "      * E \n",
    "    * D\n",
    "      * B\n",
    "      * C\n",
    "      * E\n",
    "    * E\n",
    "      * B\n",
    "      * C\n",
    "      * D \n",
    "  * B\n",
    "    * A\n",
    "    * C\n",
    "    * D\n",
    "    * E\n",
    "  * C\n",
    "  * D\n",
    "  * E\n",
    "    \n",
    "  \n",
    "If we traverse tree, there would be 5 * 4 * 3  paths, i.e. possible arrangements\n",
    "\n",
    "After the third position, available positions are exhausted. Had there been 5 positions, number of possible arrangements would have been 5! = 5 * 4 * 3 * 2 * 1\n",
    "\n",
    "Generically, possible arrangements for n objects in k slots is : n * (n-1) * (n-2) * ... * (n-k+1)  \n",
    "Looks to be a factorial cut down somewhere before it finished.\n",
    "\n",
    "\n",
    "Which can be represented as :   $ \\frac{n!}{(n-k)!} $\n",
    "\n",
    "In our example : $ \\frac{5!}{2!} $\n",
    "\n",
    "Thease arrangements are called as *permutations*, and $ \\frac{n!}{(n-k)!} $ is the formula to calculate permutations.\n",
    "\n"
   ]
  },
  {
   "cell_type": "markdown",
   "id": "1dc8a039-9920-4770-9a07-9871079098b3",
   "metadata": {},
   "source": [
    "#### n and k in the problems can be interchanged\n",
    "\n",
    "A little deviation of above problem is : imagine there are 3 people (A,B,C) and 5 positions (e.g. chairs) (1,2,3,4,5)  \n",
    "\n",
    "The possible arrangements would look like (_ is empty position) :\n",
    "\n",
    "A B C _ _  \n",
    "A _ B _ C  \n",
    "C _ A B _\n",
    "\n",
    "This problem can be flipped to earlier problem like : Arrange(Assign) 5 positions among 3 people\n",
    "\n",
    "We can assign any chair to person A : 5 possibilities  \n",
    "We can assign any chair to person B except the chair already assigned to person A : 4 possibilities  \n",
    "We can assign any chair to person C except the chairs already assigned to person A and B : 3 possibilities \n",
    "and so on.  "
   ]
  },
  {
   "cell_type": "markdown",
   "id": "3cac53c0-7e8c-4e1e-9eb3-abdec7f5a315",
   "metadata": {},
   "source": [
    "### Combinations:"
   ]
  },
  {
   "cell_type": "markdown",
   "id": "008a04dc-0d3b-4460-bf56-675bdc245771",
   "metadata": {},
   "source": [
    "Permutations give all possible arrangements, and the order is important and honored. i.e.  ABC is different than BAC or CAB  \n",
    "Sometimes we might be interested in only the possibilities, say in above problem, all the arrangements of the people (A,B,C,D,E) such that 3 of them get any chair, irrespective of the order.  \n",
    "* ABC  \n",
    "* ABD  \n",
    "* ABE  \n",
    "* ACD  \n",
    "* ACE  \n",
    "* ADE  \n",
    "* BCD  \n",
    "* BDE  \n",
    "* CDE  \n"
   ]
  },
  {
   "cell_type": "markdown",
   "id": "12a4c384-1867-4c54-ab24-84fb27859299",
   "metadata": {},
   "source": [
    "To get all combinations from the permutations, we must remove all the duplication in permutations: which has happened due to different ordering (e.g. ABC, ACB, CAB are duplicates)  \n",
    "\n",
    "How to calculate the amount of duplication?  \n",
    "Permutation already has introduced the duplication due to ordering, \n",
    "\n",
    "For the above problem, follows some permutation involving only A,B and C (Note there were only 3 positions) \n",
    "\n",
    "* ABC\n",
    "* ACB\n",
    "* BAC\n",
    "* BCA\n",
    "* CAB\n",
    "* CBA\n",
    "\n",
    "Same no. of arrangements can be done for any 3 people (e.g. B, D and E)\n",
    "\n",
    "These arrangements are actually permuatations of any 3 people for all the available positions : $ \\frac{n!}{(n-k)!} = \\frac{3!}{(3-3)!} = 3! = 6 $\n",
    "\n",
    "Generically : $ \\frac{n!}{(n-n)!} = n! = k! $ , as n=k in this case  \n",
    "\n",
    "Every unique combination (listed at the start of this section), is duplicated in the permuations. The duplication factor is, as we derived above, k!  \n",
    "\n",
    "It means for every unique combination $ c_x $ , there are k! arrangements present in the permutation list.  \n",
    "\n",
    "$ (k!)p(ABC in 12345) + (k!)p(ACD in 12345) + (k!)p(ADE in 12345) + (k!)p(BCD in 12345) + ... $  \n",
    "\n",
    "$ (k!).c_1 + (k!).c_2 + ... + (k!).c_m  =  (k!)(c_1+c_2+c_3+...+c_m)$  \n",
    "\n",
    "To get all unique combinations we'll have to divide this by k!\n",
    "\n",
    "Generically:  \n",
    "\n",
    "combination = $ \\frac{\\frac{n!}{(n-k)!}}{k!} = \\frac{n!}{k!(n-k)!} $  "
   ]
  },
  {
   "cell_type": "code",
   "execution_count": null,
   "id": "a08e5a6d-8349-4b82-9785-4476473e3fdc",
   "metadata": {},
   "outputs": [],
   "source": []
  },
  {
   "cell_type": "code",
   "execution_count": null,
   "id": "698262b8-bd0b-4a11-85b1-fe4c11074ee1",
   "metadata": {},
   "outputs": [],
   "source": []
  }
 ],
 "metadata": {
  "kernelspec": {
   "display_name": "Python 3",
   "language": "python",
   "name": "python3"
  },
  "language_info": {
   "codemirror_mode": {
    "name": "ipython",
    "version": 3
   },
   "file_extension": ".py",
   "mimetype": "text/x-python",
   "name": "python",
   "nbconvert_exporter": "python",
   "pygments_lexer": "ipython3",
   "version": "3.8.1"
  }
 },
 "nbformat": 4,
 "nbformat_minor": 5
}
