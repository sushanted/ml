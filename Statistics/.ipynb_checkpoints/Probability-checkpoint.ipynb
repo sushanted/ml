{
 "cells": [
  {
   "cell_type": "markdown",
   "id": "5f00aa81-cd5f-45b9-b6e7-f0dc90ab6b0d",
   "metadata": {},
   "source": [
    "### Addition rule"
   ]
  },
  {
   "cell_type": "markdown",
   "id": "8cd563b3-3b06-48c4-92e4-4dee6c3e8d94",
   "metadata": {},
   "source": [
    "Venn diagrams are very useful to get the probability of sets\n",
    "\n",
    "![alt text](set_intersection.png \"Title\")"
   ]
  },
  {
   "cell_type": "markdown",
   "id": "871f5947-83a0-4fb7-ad69-790633b047d2",
   "metadata": {},
   "source": [
    "$ p(A or B) = p(A) + p(B) - p(A \\cap B) $  \n",
    "\n",
    "probabilty of a person to be an employee or a student  \n",
    "There could be people who are both : an employee and a student  \n",
    "To calcualte the ratio of all people who are either employee or student over all people, \n",
    "all_employee_or_student = all_only_employee + all_only_student + all_both_employee_and_student  \n"
   ]
  },
  {
   "cell_type": "markdown",
   "id": "34b6c129-cd8e-467e-9815-c0620fef8bb2",
   "metadata": {},
   "source": [
    "### Multiplication Rule (Independent events)"
   ]
  },
  {
   "cell_type": "markdown",
   "id": "9079f78a-99a3-42bd-aa02-82172237ebbd",
   "metadata": {},
   "source": [
    "$ p(A and B) = p(A).p(B) $  "
   ]
  },
  {
   "cell_type": "code",
   "execution_count": null,
   "id": "2a674e45-2932-4b7b-9d90-694ad34dddb8",
   "metadata": {},
   "outputs": [],
   "source": []
  }
 ],
 "metadata": {
  "kernelspec": {
   "display_name": "Python 3",
   "language": "python",
   "name": "python3"
  },
  "language_info": {
   "codemirror_mode": {
    "name": "ipython",
    "version": 3
   },
   "file_extension": ".py",
   "mimetype": "text/x-python",
   "name": "python",
   "nbconvert_exporter": "python",
   "pygments_lexer": "ipython3",
   "version": "3.8.1"
  }
 },
 "nbformat": 4,
 "nbformat_minor": 5
}
