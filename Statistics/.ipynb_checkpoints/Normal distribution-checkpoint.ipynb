{
 "cells": [
  {
   "cell_type": "markdown",
   "id": "8fc7d33e-d913-415d-a929-c02e386e5998",
   "metadata": {},
   "source": [
    "## Normal distribution / Gaussian distribution / Bell curve"
   ]
  },
  {
   "cell_type": "markdown",
   "id": "49c21cad-3430-49b9-8b5b-044ffeb55217",
   "metadata": {},
   "source": [
    "#### Resources\n",
    "https://www.youtube.com/watch?v=yTGEMoaWDCQ"
   ]
  },
  {
   "cell_type": "markdown",
   "id": "94689fcc-e15c-4746-9eb6-9b39dbb569c8",
   "metadata": {},
   "source": [
    "Normal distribution approximates binomial distribution  \n",
    "Normal distribution density function depends on the mean and the variance (or standard deviation)  \n",
    "\n",
    "Sources :  \n",
    "https://www.statisticshowto.com/probability-and-statistics/normal-distributions/  \n",
    "https://statisticsbyjim.com/basics/normal-distribution/  \n",
    "\n",
    "The mean is the central tendency of the distribution. It defines the location of the peak for normal distributions. Most values cluster around the mean. On a graph, changing the mean shifts the entire curve left or right on the X-axis.\n",
    "\n",
    "The standard deviation controls the spread of the distribution. A smaller standard deviation indicates that the data is tightly clustered around the mean; the normal distribution will be taller. A larger standard deviation indicates that the data is spread out around the mean; the normal distribution will be flatter and wider.  \n",
    "\n",
    "The standard deviation is a measure of variability. It defines the width of the normal distribution. The standard deviation determines how far away from the mean the values tend to fall. It represents the typical distance between the observations and the average.\n",
    "\n",
    "On a graph, changing the standard deviation either tightens or spreads out the width of the distribution along the X-axis. Larger standard deviations produce distributions that are more spread out.\n",
    "\n",
    "### Properties of normal distribution  \n",
    "1. The mean, mode and median are all equal.  \n",
    "2. The curve is symmetric at the center (i.e. around the mean, μ).  \n",
    "3. Exactly half of the values are to the left of center and exactly half the values are to the right.  \n",
    "4. The total area under the curve is 1.  \n",
    "\n"
   ]
  },
  {
   "cell_type": "markdown",
   "id": "e5134c6e-c1fb-495f-8852-356929ad2854",
   "metadata": {},
   "source": [
    "### Emperical rule  \n",
    "\n",
    "The empirical rule tells you what percentage of your data falls within a certain number of standard deviations from the mean:\n",
    "1. 68% of the data falls within one standard deviation of the mean.\n",
    "2. 95% of the data falls within two standard deviations of the mean.\n",
    "3. 99.7% of the data falls within three standard deviations of the mean."
   ]
  },
  {
   "cell_type": "code",
   "execution_count": null,
   "id": "86fe4c31-165b-449a-babf-6b426021c18c",
   "metadata": {},
   "outputs": [],
   "source": []
  }
 ],
 "metadata": {
  "kernelspec": {
   "display_name": "Python 3",
   "language": "python",
   "name": "python3"
  },
  "language_info": {
   "codemirror_mode": {
    "name": "ipython",
    "version": 3
   },
   "file_extension": ".py",
   "mimetype": "text/x-python",
   "name": "python",
   "nbconvert_exporter": "python",
   "pygments_lexer": "ipython3",
   "version": "3.8.1"
  }
 },
 "nbformat": 4,
 "nbformat_minor": 5
}
