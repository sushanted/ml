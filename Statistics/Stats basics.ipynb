{
 "cells": [
  {
   "cell_type": "code",
   "execution_count": 1,
   "metadata": {},
   "outputs": [],
   "source": [
    "import numpy as np\n",
    "import pandas as pd\n",
    "from matplotlib import pyplot as plt\n",
    "\n",
    "%matplotlib inline"
   ]
  },
  {
   "cell_type": "markdown",
   "metadata": {},
   "source": [
    "### Topics"
   ]
  },
  {
   "cell_type": "markdown",
   "metadata": {},
   "source": [
    "#### Variance\n",
    "\n",
    "the variance is the same thing as the covariance of a series with itself (i.e. 𝐶𝑜𝑣(𝑥,𝑥)=𝑉𝑎𝑟(𝑥)).\n",
    "\n",
    "$Var(x) = Cov(x,x)$"
   ]
  },
  {
   "cell_type": "markdown",
   "metadata": {},
   "source": [
    "#### Covariance\n",
    "$cov_{x,y}=\\frac{\\sum_{i=1}^{N}(x_{i}-\\bar{x})(y_{i}-\\bar{y})}{N-1}$\n",
    "\n",
    "For each point, deviation of x from mean * deviation of y from mean (this could be positive/negative)\n",
    "Only sign of the covariance is important, because sclare affects its value. For example,\n",
    "if we double the scale in above equation:\n",
    "\n",
    "$cov_{2x,2y}=\\frac{\\sum_{i=1}^{N}(2*x_{i}-2*\\bar{x})(2*y_{i}-2*\\bar{y})}{N-1}$\n",
    "\n",
    "$cov_{2x,2y}=\\frac{\\sum_{i=1}^{N}4(x_{i}-\\bar{x})(y_{i}-\\bar{y})}{N-1}$\n",
    "\n",
    "$cov_{2x,2y}=\\frac{4\\sum_{i=1}^{N}(x_{i}-\\bar{x})(y_{i}-\\bar{y})}{N-1}$\n",
    "\n",
    "\n",
    "$cov_{2x,2y}=4*cov_{x,y}$\n",
    "\n",
    "\n"
   ]
  },
  {
   "cell_type": "code",
   "execution_count": 2,
   "metadata": {},
   "outputs": [
    {
     "name": "stdout",
     "output_type": "stream",
     "text": [
      "scale_1  8.4\n",
      "scale_2 33.6\n",
      "ratio =  4.0\n"
     ]
    }
   ],
   "source": [
    "x = pd.Series([1,3,5,6,7,8])\n",
    "y = pd.Series([1,2,4,7,8,9])\n",
    "print(\"scale_1 \",x.cov(y))\n",
    "\n",
    "x2 = 2*x\n",
    "y2 = 2*y\n",
    "print(\"scale_2\",x2.cov(y2))\n",
    "\n",
    "print(\"ratio = \",x2.cov(y2)/x.cov(y))\n"
   ]
  },
  {
   "cell_type": "code",
   "execution_count": 3,
   "metadata": {},
   "outputs": [
    {
     "data": {
      "text/plain": [
       "[<matplotlib.lines.Line2D at 0x119884668>]"
      ]
     },
     "execution_count": 3,
     "metadata": {},
     "output_type": "execute_result"
    },
    {
     "data": {
      "image/png": "[encoded data removed]",
      "text/plain": [
       "<Figure size 432x288 with 1 Axes>"
      ]
     },
     "metadata": {},
     "output_type": "display_data"
    }
   ],
   "source": [
    "plt.plot(x,y)"
   ]
  },
  {
   "cell_type": "markdown",
   "metadata": {},
   "source": [
    "### Correlation"
   ]
  },
  {
   "cell_type": "markdown",
   "metadata": {},
   "source": [
    "$\\rho = \\frac{Cov(x,y)}{\\sqrt{Var(x)Var(y)}}$ \n",
    "\n",
    "\n",
    "\n",
    "$ r =\n",
    "  \\frac{ \\sum_{i=1}^{n}(x_i-\\bar{x})(y_i-\\bar{y}) }{%\n",
    "        \\sqrt{\\sum_{i=1}^{n}(x_i-\\bar{x})^2}\\sqrt{\\sum_{i=1}^{n}(y_i-\\bar{y})^2}}$\n",
    "        \n",
    "When x and y are same:\n",
    "\n",
    "$ r =\n",
    "  \\frac{ \\sum_{i=1}^{n}(x_i-\\bar{x})(x_i-\\bar{x}) }{%\n",
    "        \\sqrt{\\sum_{i=1}^{n}(x_i-\\bar{x})^2}\\sqrt{\\sum_{i=1}^{n}(x_i-\\bar{x})^2}}$\n",
    "        \n",
    "$ r =\n",
    "  \\frac{ \\sum_{i=1}^{n}(x_i-\\bar{x})^2 }{\\sum_{i=1}^{n}(x_i-\\bar{x})^2}$\n",
    "  \n",
    "$r = 1$\n"
   ]
  },
  {
   "cell_type": "markdown",
   "metadata": {},
   "source": [
    "#### Correlation and causation\n",
    "Correlation is not always causation, for example sales of ice-cream and coolers might be correlated, but none of them cause other, the cause is temperature\n",
    "#### TODO why correlation is not more than 1 or less than -1?\n",
    "\n"
   ]
  },
  {
   "cell_type": "markdown",
   "metadata": {},
   "source": [
    "$ r =\n",
    "  \\frac{ \\sum_{i=1}^{n}(x_i-\\bar{x})(y_i-\\bar{y}) }{%\n",
    "        \\sqrt{\\sum_{i=1}^{n}(x_i-\\bar{x})^2}\\sqrt{\\sum_{i=1}^{n}(y_i-\\bar{y})^2}}$"
   ]
  },
  {
   "cell_type": "markdown",
   "metadata": {},
   "source": [
    "$ r^2 =\n",
    "  \\frac{ \\sum_{i=1}^{n}(x_i-\\bar{x})(y_i-\\bar{y}) }{%\n",
    "        {\\sum_{i=1}^{n}(x_i-\\bar{x})^2}{\\sum_{i=1}^{n}(y_i-\\bar{y})^2}}$"
   ]
  },
  {
   "cell_type": "markdown",
   "metadata": {},
   "source": [
    "### Notes"
   ]
  },
  {
   "cell_type": "markdown",
   "metadata": {},
   "source": [
    "p-value has 3 components : prabability of the event + probability of events equals rare as the event + probability of events rarer than the events"
   ]
  },
  {
   "cell_type": "markdown",
   "metadata": {},
   "source": [
    "### Questions"
   ]
  },
  {
   "cell_type": "markdown",
   "metadata": {},
   "source": [
    "How p-value is used ? where is it used?"
   ]
  },
  {
   "cell_type": "markdown",
   "metadata": {},
   "source": [
    "How R and $R^2$ are related as $R^2$ = R*R , but both have different equations?"
   ]
  },
  {
   "cell_type": "code",
   "execution_count": null,
   "metadata": {},
   "outputs": [],
   "source": []
  }
 ],
 "metadata": {
  "kernelspec": {
   "display_name": "Python 3",
   "language": "python",
   "name": "python3"
  },
  "language_info": {
   "codemirror_mode": {
    "name": "ipython",
    "version": 3
   },
   "file_extension": ".py",
   "mimetype": "text/x-python",
   "name": "python",
   "nbconvert_exporter": "python",
   "pygments_lexer": "ipython3",
   "version": "3.6.4"
  }
 },
 "nbformat": 4,
 "nbformat_minor": 2
}
